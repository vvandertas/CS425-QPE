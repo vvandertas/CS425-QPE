{
 "cells": [
  {
   "cell_type": "markdown",
   "metadata": {},
   "source": [
    "### Sign table"
   ]
  },
  {
   "cell_type": "code",
   "execution_count": 1,
   "metadata": {},
   "outputs": [
    {
     "data": {
      "text/plain": [
       "array([[-1., -1.,  1.],\n",
       "       [ 1., -1., -1.],\n",
       "       [-1.,  1., -1.],\n",
       "       [ 1.,  1.,  1.]])"
      ]
     },
     "execution_count": 1,
     "metadata": {},
     "output_type": "execute_result"
    }
   ],
   "source": [
    "from pyDOE2 import *\n",
    "# Generate sign table for experiments using Plackett-Burman design\n",
    "sign_table = pbdesign(3)\n",
    "sign_table"
   ]
  },
  {
   "cell_type": "markdown",
   "metadata": {},
   "source": [
    "### Data processing"
   ]
  },
  {
   "cell_type": "code",
   "execution_count": 2,
   "metadata": {},
   "outputs": [],
   "source": [
    "import pandas as pd\n",
    "import time\n",
    "from calendar import timegm\n",
    "from datetime import datetime\n",
    "from sklearn.linear_model import LinearRegression\n",
    "from scipy import stats\n",
    "\n",
    "date_format = \"%Y/%m/%d:%H:%M:%S\"\n",
    "\n",
    "# Takes a string containing date and time and converts it to epoch time\n",
    "def timestamp_converter(timestamp):\n",
    "    utc_time = time.strptime(timestamp, date_format)\n",
    "    return timegm(utc_time)\n",
    "    "
   ]
  },
  {
   "cell_type": "code",
   "execution_count": 3,
   "metadata": {},
   "outputs": [],
   "source": [
    "def load_service_and_arrival_times(experiment):\n",
    "    if isinstance(experiment, int):      \n",
    "        service_path ='data/service/exp' + str(experiment) + \"/run\" \n",
    "        arrivals_path ='data/arrivals/exp' + str(experiment) + \"/run\"\n",
    "    else:\n",
    "        service_path = 'data/service/' + str(experiment) + \"/run\" \n",
    "        arrivals_path = 'data/arrivals/' + str(experiment) + \"/run\"\n",
    "        \n",
    "    times = pd.DataFrame({}, columns = ['job', 'arrival_time', 'serivice_time'])\n",
    "    run_times = []\n",
    "    for run in range(1,4):\n",
    "        # Load the arrivals and service time data for a single run for this experiment\n",
    "        temp_service = pd.read_csv(service_path + str(run) + '.csv',  delimiter=' ')\n",
    "        temp_arrivals = pd.read_csv(arrivals_path + str(run) + '.csv',  delimiter=' ')\n",
    "        \n",
    "        # Transform the date string values into epoch values\n",
    "        temp_arrivals['arrival_time'] = temp_arrivals['arrival_time'].apply(lambda x: timestamp_converter(x))\n",
    "            \n",
    "        # Compute the average runtimes for this run\n",
    "        run_times.append(np.mean(temp_service['end_time']-temp_arrivals['arrival_time']))\n",
    "        \n",
    "        # Merge the data into a single df\n",
    "        merged_temp = pd.merge(temp_arrivals, temp_service, on='job')\n",
    "        \n",
    "        # Concatenate the df to the results of previous runs \n",
    "        if times.empty:\n",
    "            times = merged_temp\n",
    "        else:\n",
    "            times = pd.concat([times, merged_temp])\n",
    "        \n",
    "    return times, run_times    \n",
    "    "
   ]
  },
  {
   "cell_type": "code",
   "execution_count": 4,
   "metadata": {},
   "outputs": [
    {
     "data": {
      "text/html": [
       "<div>\n",
       "<style scoped>\n",
       "    .dataframe tbody tr th:only-of-type {\n",
       "        vertical-align: middle;\n",
       "    }\n",
       "\n",
       "    .dataframe tbody tr th {\n",
       "        vertical-align: top;\n",
       "    }\n",
       "\n",
       "    .dataframe thead th {\n",
       "        text-align: right;\n",
       "    }\n",
       "</style>\n",
       "<table border=\"1\" class=\"dataframe\">\n",
       "  <thead>\n",
       "    <tr style=\"text-align: right;\">\n",
       "      <th></th>\n",
       "      <th>arrival_time</th>\n",
       "      <th>service_time</th>\n",
       "      <th>end_time</th>\n",
       "      <th>runtime</th>\n",
       "    </tr>\n",
       "  </thead>\n",
       "  <tbody>\n",
       "    <tr>\n",
       "      <th>0</th>\n",
       "      <td>1571325570</td>\n",
       "      <td>1167.32</td>\n",
       "      <td>1.571327e+09</td>\n",
       "      <td>1167.736375</td>\n",
       "    </tr>\n",
       "    <tr>\n",
       "      <th>1</th>\n",
       "      <td>1571326737</td>\n",
       "      <td>1152.15</td>\n",
       "      <td>1.571328e+09</td>\n",
       "      <td>1152.884600</td>\n",
       "    </tr>\n",
       "    <tr>\n",
       "      <th>2</th>\n",
       "      <td>1571327889</td>\n",
       "      <td>1123.97</td>\n",
       "      <td>1.571329e+09</td>\n",
       "      <td>1124.858761</td>\n",
       "    </tr>\n",
       "    <tr>\n",
       "      <th>3</th>\n",
       "      <td>1571336619</td>\n",
       "      <td>1340.89</td>\n",
       "      <td>1.571338e+09</td>\n",
       "      <td>1341.251274</td>\n",
       "    </tr>\n",
       "    <tr>\n",
       "      <th>4</th>\n",
       "      <td>1571337960</td>\n",
       "      <td>1122.64</td>\n",
       "      <td>1.571339e+09</td>\n",
       "      <td>1122.887484</td>\n",
       "    </tr>\n",
       "    <tr>\n",
       "      <th>5</th>\n",
       "      <td>1571339082</td>\n",
       "      <td>1107.76</td>\n",
       "      <td>1.571340e+09</td>\n",
       "      <td>1108.645429</td>\n",
       "    </tr>\n",
       "    <tr>\n",
       "      <th>6</th>\n",
       "      <td>1571340419</td>\n",
       "      <td>1117.66</td>\n",
       "      <td>1.571342e+09</td>\n",
       "      <td>1117.917737</td>\n",
       "    </tr>\n",
       "    <tr>\n",
       "      <th>7</th>\n",
       "      <td>1571341536</td>\n",
       "      <td>1118.97</td>\n",
       "      <td>1.571343e+09</td>\n",
       "      <td>1119.887491</td>\n",
       "    </tr>\n",
       "    <tr>\n",
       "      <th>8</th>\n",
       "      <td>1571342655</td>\n",
       "      <td>1118.80</td>\n",
       "      <td>1.571344e+09</td>\n",
       "      <td>1119.691689</td>\n",
       "    </tr>\n",
       "  </tbody>\n",
       "</table>\n",
       "</div>"
      ],
      "text/plain": [
       "   arrival_time  service_time      end_time      runtime\n",
       "0    1571325570       1167.32  1.571327e+09  1167.736375\n",
       "1    1571326737       1152.15  1.571328e+09  1152.884600\n",
       "2    1571327889       1123.97  1.571329e+09  1124.858761\n",
       "3    1571336619       1340.89  1.571338e+09  1341.251274\n",
       "4    1571337960       1122.64  1.571339e+09  1122.887484\n",
       "5    1571339082       1107.76  1.571340e+09  1108.645429\n",
       "6    1571340419       1117.66  1.571342e+09  1117.917737\n",
       "7    1571341536       1118.97  1.571343e+09  1119.887491\n",
       "8    1571342655       1118.80  1.571344e+09  1119.691689"
      ]
     },
     "execution_count": 4,
     "metadata": {},
     "output_type": "execute_result"
    }
   ],
   "source": [
    "# Collecting the timing data for all experiments\n",
    "all_timing_data = {}\n",
    "all_runtimes = []\n",
    "for exp in range(1,5):\n",
    "    # Load the data, remove the job column and reset the row index\n",
    "    exp_times, exp_avg_runtimes = load_service_and_arrival_times(exp)\n",
    "    exp_times = exp_times.drop(columns = ['job']).reset_index(drop=True)\n",
    "    \n",
    "    # Compute and add the runtimes\n",
    "    exp_times['runtime']=exp_times['end_time']-exp_times['arrival_time']\n",
    "    \n",
    "    # Add the timing data for this experiment to all_timing_data\n",
    "    all_timing_data[exp] = exp_times\n",
    "    \n",
    "    # and the avg runtimes to all_runtimes\n",
    "    all_runtimes.extend(exp_avg_runtimes)\n",
    "    \n",
    "all_timing_data.get(2)\n",
    "#all_runtimes"
   ]
  },
  {
   "cell_type": "code",
   "execution_count": null,
   "metadata": {},
   "outputs": [],
   "source": []
  },
  {
   "cell_type": "markdown",
   "metadata": {},
   "source": [
    "### Regression model fit using sklearn"
   ]
  },
  {
   "cell_type": "code",
   "execution_count": 48,
   "metadata": {},
   "outputs": [
    {
     "name": "stdout",
     "output_type": "stream",
     "text": [
      "epoch has coefficient 36.411059957329535\n",
      "cores has coefficient -64.96256885567598\n",
      "batch_size has coefficient -2.5128532426916195\n"
     ]
    }
   ],
   "source": [
    "# Collecting the timing data for all experiments\n",
    "all_timing_data = {}\n",
    "all_runtimes = []\n",
    "\n",
    "epochs = [5, 20, 5, 20]\n",
    "cores = [4, 4, 8, 8]\n",
    "batch_sizes = [256, 64, 64, 256]\n",
    "\n",
    "for exp in range(1,5):\n",
    "    # Load the data, remove the job column and reset the row index\n",
    "    exp_times, exp_avg_runtimes = load_service_and_arrival_times(exp)\n",
    "    exp_times = exp_times.reset_index(drop=True)\n",
    "    \n",
    "    # Compute and add the runtimes\n",
    "    exp_times['runtime']=exp_times['end_time']-exp_times['arrival_time']\n",
    "    \n",
    "    # Add the timing data for this experiment to all_timing_data\n",
    "    all_timing_data[exp] = exp_times\n",
    "    \n",
    "    # and the avg runtimes to all_runtimes\n",
    "    all_runtimes.extend(exp_avg_runtimes)\n",
    "\n",
    "    #add factor values to the dataframe\n",
    "    all_timing_data.get(exp)[\"epoch\"] = epochs[exp-1]\n",
    "    all_timing_data.get(exp)[\"cores\"] = cores[exp-1]\n",
    "    all_timing_data.get(exp)[\"batch_size\"] = batch_sizes[exp-1]\n",
    "\n",
    "    \n",
    "df = pd.DataFrame.from_dict(all_timing_data.get(1))\n",
    "for exp in range(2, 5):\n",
    "    df = df.append(pd.DataFrame.from_dict(all_timing_data.get(exp)))\n",
    "\n",
    "df = df.drop(columns=[\"job\", \"arrival_time\", \"service_time\", \"end_time\"])\n",
    "\n",
    "X = df.drop(columns=[\"runtime\"])\n",
    "y = df[\"runtime\"]\n",
    "\n",
    "clf = LinearRegression().fit(X, y)\n",
    "\n",
    "for col, coef in zip(X.columns, clf.coef_):\n",
    "    print(f\"{col} has coefficient {coef}\")\n",
    "    "
   ]
  },
  {
   "cell_type": "code",
   "execution_count": 6,
   "metadata": {},
   "outputs": [
    {
     "name": "stdout",
     "output_type": "stream",
     "text": [
      "Average runtime for baseline: 383.71768385392653\n"
     ]
    }
   ],
   "source": [
    "# Collect timing data for baseline runs\n",
    "baseline_times, baseline_avg_runtimes = load_service_and_arrival_times(\"baseline\")\n",
    "baseline_times = baseline_times.drop(columns = ['job']).reset_index(drop=True)\n",
    "\n",
    "# Compute and add the runtimes\n",
    "baseline_times['runtime']=baseline_times['end_time']-baseline_times['arrival_time']\n",
    "\n",
    "\n",
    "print(\"Average runtime for baseline: \" + str(np.average(baseline_avg_runtimes)))"
   ]
  },
  {
   "cell_type": "code",
   "execution_count": 7,
   "metadata": {},
   "outputs": [
    {
     "name": "stdout",
     "output_type": "stream",
     "text": [
      "Average runtime for improved baseline: 172.26622689815989\n"
     ]
    }
   ],
   "source": [
    "# Collect timing data for baseline runs\n",
    "baseline_improved_times, baseline_improved_avg_runtimes = load_service_and_arrival_times(\"improved-baseline\")\n",
    "#baseline_times = baseline_times.drop(columns = ['job']).reset_index(drop=True)\n",
    "\n",
    "# Compute and add the runtimes\n",
    "baseline_improved_times['runtime']=baseline_improved_times['end_time']-baseline_improved_times['arrival_time']\n",
    "\n",
    "\n",
    "print(\"Average runtime for improved baseline: \" + str(np.average(baseline_improved_avg_runtimes)))"
   ]
  },
  {
   "cell_type": "markdown",
   "metadata": {},
   "source": [
    "### Average jobs per experiment"
   ]
  },
  {
   "cell_type": "code",
   "execution_count": 8,
   "metadata": {},
   "outputs": [
    {
     "name": "stdout",
     "output_type": "stream",
     "text": [
      "Experiment 1 avg jobs: 19.0\n",
      "Experiment 2 avg jobs: 3.0\n",
      "Experiment 3 avg jobs: 10.0\n",
      "Experiment 4 avg jobs: 8.333333333333334\n",
      "Baseline avg jobs: 9.0\n",
      "Baseline improved avg jobs: 19.0\n"
     ]
    }
   ],
   "source": [
    "\n",
    "for exp in range(1,5):\n",
    "    print(f\"Experiment {exp} avg jobs: {len(all_timing_data.get(exp))/3}\")\n",
    "    \n",
    "#Average jobs for baselines\n",
    "print(f\"Baseline avg jobs: \" + str((len(baseline_times[\"runtime\"])/3)))\n",
    "print(f\"Baseline improved avg jobs: \" + str((len(baseline_improved_times[\"runtime\"])/3)))"
   ]
  },
  {
   "cell_type": "markdown",
   "metadata": {},
   "source": [
    "### Baseline vs. improved baseline T-test"
   ]
  },
  {
   "cell_type": "code",
   "execution_count": 9,
   "metadata": {},
   "outputs": [
    {
     "name": "stdout",
     "output_type": "stream",
     "text": [
      "T: 228.44555906383425, p2: 9.167919353383126e-117\n"
     ]
    }
   ],
   "source": [
    "t2, p2 = stats.ttest_ind(baseline_times[\"runtime\"],baseline_improved_times[\"runtime\"])\n",
    "print(f\"T: {t2}, p2: {p2}\")"
   ]
  },
  {
   "cell_type": "code",
   "execution_count": 10,
   "metadata": {},
   "outputs": [
    {
     "name": "stdout",
     "output_type": "stream",
     "text": [
      "Average runtime for experiment 1: 124.22859359205815\n",
      "Average runtime for experiment 2: 1152.8623155487908\n",
      "Average runtime for experiment 3: 346.8461407661438\n",
      "Average runtime for experiment 4: 410.5442175292969\n"
     ]
    }
   ],
   "source": [
    "# Compute the average runtimes\n",
    "avg_runtimes = {}\n",
    "for exp in range(1, 5):\n",
    "    average_runtime = np.average(np.array(all_timing_data[exp].runtime))\n",
    "    avg_runtimes[exp] = average_runtime\n",
    "    print(\"Average runtime for experiment \" + str(exp) + \": \" + str(average_runtime))"
   ]
  },
  {
   "cell_type": "markdown",
   "metadata": {},
   "source": [
    "#### Accuracies"
   ]
  },
  {
   "cell_type": "code",
   "execution_count": 11,
   "metadata": {},
   "outputs": [
    {
     "name": "stdout",
     "output_type": "stream",
     "text": [
      "Average accuracy for experiment 1: 0.891861403508772\n",
      "Average accuracy for experiment 2: 0.9598454545454547\n",
      "Average accuracy for experiment 3: 0.9434787878787879\n",
      "Average accuracy for experiment 4: 0.944562962962963\n"
     ]
    }
   ],
   "source": [
    "for exp in range(1,5):\n",
    "    accuracy_path ='data/accuracies/exp' + str(exp) +\".csv\" \n",
    "    accuracies = pd.read_csv(accuracy_path, header=None)\n",
    "    print(\"Average accuracy for experiment \" +  str(exp) + \": \"+ str(np.average(accuracies)))"
   ]
  },
  {
   "cell_type": "code",
   "execution_count": 12,
   "metadata": {},
   "outputs": [
    {
     "name": "stdout",
     "output_type": "stream",
     "text": [
      "Average accuracy for baseline: 0.94281\n"
     ]
    }
   ],
   "source": [
    "baseline_accuracy = pd.read_csv('data/accuracies/baseline.csv', header=None)\n",
    "print(\"Average accuracy for baseline: \" + str(np.average(baseline_accuracy)))"
   ]
  },
  {
   "cell_type": "code",
   "execution_count": 13,
   "metadata": {},
   "outputs": [
    {
     "name": "stdout",
     "output_type": "stream",
     "text": [
      "Average accuracy for improved baseline: 0.8913315789473685\n"
     ]
    }
   ],
   "source": [
    "improved_baseline_accuracy = pd.read_csv('data/accuracies/improved-baseline.csv', header=None)\n",
    "print(\"Average accuracy for improved baseline: \" + str(np.average(improved_baseline_accuracy)))"
   ]
  },
  {
   "cell_type": "markdown",
   "metadata": {},
   "source": [
    "### Regression model based on sign-table"
   ]
  },
  {
   "cell_type": "code",
   "execution_count": 14,
   "metadata": {},
   "outputs": [
    {
     "name": "stdout",
     "output_type": "stream",
     "text": [
      "[[-1. -1.  1.]\n",
      " [ 1. -1. -1.]\n",
      " [-1.  1. -1.]\n",
      " [ 1.  1.  1.]]\n",
      "[2034.4812674362897, 1092.3317987198857, -519.7005508454083, -964.9356451935796]\n",
      "\n",
      "Effect per factor: [508.62031685907243, 273.0829496799714, -129.92513771135208, -241.2339112983949]\n"
     ]
    }
   ],
   "source": [
    "# Create/solve regression model\n",
    "print(sign_table)\n",
    "\n",
    "y_mean = np.array(list(avg_runtimes.values()))\n",
    "regression_totals = [sum(avg_runtimes.values())]\n",
    "for i in range(sign_table.shape[1]):\n",
    "    regression_totals.append(sum(sign_table[:,i]*y_mean))\n",
    "\n",
    "print(regression_totals)\n",
    "\n",
    "# Calulate effect per factor\n",
    "effect = [x / 4 for x in regression_totals]\n",
    "print(\"\\nEffect per factor: \" + str(effect))"
   ]
  },
  {
   "cell_type": "code",
   "execution_count": 15,
   "metadata": {},
   "outputs": [],
   "source": [
    "def toNaturalVariable(obtained_value, min_value, max_value):\n",
    "    return obtained_value * ((min_value+max_value)/2) + (max_value-min_value)/2\n",
    "\n",
    "# epochs = [5, 20]\n",
    "# cores = [4, 8]\n",
    "# batch_sizes = [64, 256]\n",
    "\n",
    "# natural_epoch = toNaturalVariable(effect[1], 5, 20)\n",
    "# natural_epoch\n",
    "\n"
   ]
  },
  {
   "cell_type": "code",
   "execution_count": 69,
   "metadata": {},
   "outputs": [
    {
     "name": "stdout",
     "output_type": "stream",
     "text": [
      "\n",
      "\n"
     ]
    },
    {
     "data": {
      "text/html": [
       "<div>\n",
       "<style scoped>\n",
       "    .dataframe tbody tr th:only-of-type {\n",
       "        vertical-align: middle;\n",
       "    }\n",
       "\n",
       "    .dataframe tbody tr th {\n",
       "        vertical-align: top;\n",
       "    }\n",
       "\n",
       "    .dataframe thead th {\n",
       "        text-align: right;\n",
       "    }\n",
       "</style>\n",
       "<table border=\"1\" class=\"dataframe\">\n",
       "  <thead>\n",
       "    <tr style=\"text-align: right;\">\n",
       "      <th></th>\n",
       "      <th>Variable</th>\n",
       "      <th>N</th>\n",
       "      <th>Mean</th>\n",
       "      <th>SD</th>\n",
       "      <th>SE</th>\n",
       "      <th>95% Conf.</th>\n",
       "      <th>Interval</th>\n",
       "    </tr>\n",
       "  </thead>\n",
       "  <tbody>\n",
       "    <tr>\n",
       "      <th>0</th>\n",
       "      <td>Runtime</td>\n",
       "      <td>12.0</td>\n",
       "      <td>508.706567</td>\n",
       "      <td>404.330085</td>\n",
       "      <td>116.720042</td>\n",
       "      <td>251.807487</td>\n",
       "      <td>765.605647</td>\n",
       "    </tr>\n",
       "  </tbody>\n",
       "</table>\n",
       "</div>"
      ],
      "text/plain": [
       "  Variable     N        Mean          SD          SE   95% Conf.    Interval\n",
       "0  Runtime  12.0  508.706567  404.330085  116.720042  251.807487  765.605647"
      ]
     },
     "execution_count": 69,
     "metadata": {},
     "output_type": "execute_result"
    }
   ],
   "source": [
    "import researchpy as rp\n",
    "df = pd.DataFrame({'Runtime': np.array(all_runtimes),\n",
    "                   'Epoch': np.repeat(sign_table[:,0], 3),\n",
    "                   'Cores': np.repeat(sign_table[:,1], 3),\n",
    "                   'Batch': np.repeat(sign_table[:,2], 3)})\n",
    "\n",
    "rp.summary_cont(df['Runtime'])"
   ]
  },
  {
   "cell_type": "code",
   "execution_count": 71,
   "metadata": {},
   "outputs": [
    {
     "name": "stdout",
     "output_type": "stream",
     "text": [
      "\n",
      "\n"
     ]
    },
    {
     "name": "stderr",
     "output_type": "stream",
     "text": [
      "/usr/local/lib/python3.7/site-packages/scipy/stats/stats.py:1416: UserWarning: kurtosistest only valid for n>=20 ... continuing anyway, n=12\n",
      "  \"anyway, n=%i\" % int(n))\n"
     ]
    },
    {
     "data": {
      "text/html": [
       "<div>\n",
       "<style scoped>\n",
       "    .dataframe tbody tr th:only-of-type {\n",
       "        vertical-align: middle;\n",
       "    }\n",
       "\n",
       "    .dataframe tbody tr th {\n",
       "        vertical-align: top;\n",
       "    }\n",
       "\n",
       "    .dataframe thead th {\n",
       "        text-align: right;\n",
       "    }\n",
       "</style>\n",
       "<table border=\"1\" class=\"dataframe\">\n",
       "  <thead>\n",
       "    <tr style=\"text-align: right;\">\n",
       "      <th></th>\n",
       "      <th>sum_sq</th>\n",
       "      <th>df</th>\n",
       "      <th>F</th>\n",
       "      <th>PR(&gt;F)</th>\n",
       "    </tr>\n",
       "  </thead>\n",
       "  <tbody>\n",
       "    <tr>\n",
       "      <th>Cores</th>\n",
       "      <td>2.022976e+05</td>\n",
       "      <td>1.0</td>\n",
       "      <td>1.267518</td>\n",
       "      <td>0.286526</td>\n",
       "    </tr>\n",
       "    <tr>\n",
       "      <th>Residual</th>\n",
       "      <td>1.596013e+06</td>\n",
       "      <td>10.0</td>\n",
       "      <td>NaN</td>\n",
       "      <td>NaN</td>\n",
       "    </tr>\n",
       "  </tbody>\n",
       "</table>\n",
       "</div>"
      ],
      "text/plain": [
       "                sum_sq    df         F    PR(>F)\n",
       "Cores     2.022976e+05   1.0  1.267518  0.286526\n",
       "Residual  1.596013e+06  10.0       NaN       NaN"
      ]
     },
     "execution_count": 71,
     "metadata": {},
     "output_type": "execute_result"
    }
   ],
   "source": [
    "from statsmodels.formula.api import ols\n",
    "import statsmodels.api as sm\n",
    "\n",
    "# ANOVA for Cores\n",
    "rp.summary_cont(df.groupby(['Cores']))['Runtime']\n",
    "cores_model = ols('Runtime ~ Cores', data=df).fit()\n",
    "cores_model.summary()\n",
    "\n",
    "aov_table = sm.stats.anova_lm(cores_model, typ=2)\n",
    "aov_table"
   ]
  },
  {
   "cell_type": "code",
   "execution_count": 73,
   "metadata": {},
   "outputs": [
    {
     "name": "stdout",
     "output_type": "stream",
     "text": [
      "\n",
      "\n"
     ]
    },
    {
     "name": "stderr",
     "output_type": "stream",
     "text": [
      "/usr/local/lib/python3.7/site-packages/scipy/stats/stats.py:1416: UserWarning: kurtosistest only valid for n>=20 ... continuing anyway, n=12\n",
      "  \"anyway, n=%i\" % int(n))\n"
     ]
    },
    {
     "data": {
      "text/html": [
       "<div>\n",
       "<style scoped>\n",
       "    .dataframe tbody tr th:only-of-type {\n",
       "        vertical-align: middle;\n",
       "    }\n",
       "\n",
       "    .dataframe tbody tr th {\n",
       "        vertical-align: top;\n",
       "    }\n",
       "\n",
       "    .dataframe thead th {\n",
       "        text-align: right;\n",
       "    }\n",
       "</style>\n",
       "<table border=\"1\" class=\"dataframe\">\n",
       "  <thead>\n",
       "    <tr style=\"text-align: right;\">\n",
       "      <th></th>\n",
       "      <th>sum_sq</th>\n",
       "      <th>df</th>\n",
       "      <th>F</th>\n",
       "      <th>PR(&gt;F)</th>\n",
       "    </tr>\n",
       "  </thead>\n",
       "  <tbody>\n",
       "    <tr>\n",
       "      <th>Batch</th>\n",
       "      <td>6.978263e+05</td>\n",
       "      <td>1.0</td>\n",
       "      <td>6.341082</td>\n",
       "      <td>0.030484</td>\n",
       "    </tr>\n",
       "    <tr>\n",
       "      <th>Residual</th>\n",
       "      <td>1.100485e+06</td>\n",
       "      <td>10.0</td>\n",
       "      <td>NaN</td>\n",
       "      <td>NaN</td>\n",
       "    </tr>\n",
       "  </tbody>\n",
       "</table>\n",
       "</div>"
      ],
      "text/plain": [
       "                sum_sq    df         F    PR(>F)\n",
       "Batch     6.978263e+05   1.0  6.341082  0.030484\n",
       "Residual  1.100485e+06  10.0       NaN       NaN"
      ]
     },
     "execution_count": 73,
     "metadata": {},
     "output_type": "execute_result"
    }
   ],
   "source": [
    "# ANOVA for Batch size\n",
    "rp.summary_cont(df.groupby(['Batch']))['Runtime']\n",
    "batch_model = ols('Runtime ~ Batch', data=df).fit()\n",
    "batch_model.summary()\n",
    "\n",
    "aov_table = sm.stats.anova_lm(batch_model, typ=2)\n",
    "aov_table"
   ]
  },
  {
   "cell_type": "code",
   "execution_count": 75,
   "metadata": {},
   "outputs": [
    {
     "name": "stderr",
     "output_type": "stream",
     "text": [
      "/usr/local/lib/python3.7/site-packages/scipy/stats/stats.py:1416: UserWarning: kurtosistest only valid for n>=20 ... continuing anyway, n=12\n",
      "  \"anyway, n=%i\" % int(n))\n"
     ]
    },
    {
     "data": {
      "text/html": [
       "<div>\n",
       "<style scoped>\n",
       "    .dataframe tbody tr th:only-of-type {\n",
       "        vertical-align: middle;\n",
       "    }\n",
       "\n",
       "    .dataframe tbody tr th {\n",
       "        vertical-align: top;\n",
       "    }\n",
       "\n",
       "    .dataframe thead th {\n",
       "        text-align: right;\n",
       "    }\n",
       "</style>\n",
       "<table border=\"1\" class=\"dataframe\">\n",
       "  <thead>\n",
       "    <tr style=\"text-align: right;\">\n",
       "      <th></th>\n",
       "      <th>sum_sq</th>\n",
       "      <th>df</th>\n",
       "      <th>F</th>\n",
       "      <th>PR(&gt;F)</th>\n",
       "    </tr>\n",
       "  </thead>\n",
       "  <tbody>\n",
       "    <tr>\n",
       "      <th>Epoch</th>\n",
       "      <td>895456.942631</td>\n",
       "      <td>1.0</td>\n",
       "      <td>9.91807</td>\n",
       "      <td>0.010345</td>\n",
       "    </tr>\n",
       "    <tr>\n",
       "      <th>Residual</th>\n",
       "      <td>902854.054602</td>\n",
       "      <td>10.0</td>\n",
       "      <td>NaN</td>\n",
       "      <td>NaN</td>\n",
       "    </tr>\n",
       "  </tbody>\n",
       "</table>\n",
       "</div>"
      ],
      "text/plain": [
       "                 sum_sq    df        F    PR(>F)\n",
       "Epoch     895456.942631   1.0  9.91807  0.010345\n",
       "Residual  902854.054602  10.0      NaN       NaN"
      ]
     },
     "execution_count": 75,
     "metadata": {},
     "output_type": "execute_result"
    }
   ],
   "source": [
    "# ANOVA for Training Epoch size\n",
    "batch_model = ols('Runtime ~ Epoch', data=df).fit()\n",
    "batch_model.summary()\n",
    "\n",
    "aov_table = sm.stats.anova_lm(batch_model, typ=2)\n",
    "aov_table"
   ]
  },
  {
   "cell_type": "code",
   "execution_count": 20,
   "metadata": {},
   "outputs": [
    {
     "name": "stderr",
     "output_type": "stream",
     "text": [
      "/usr/local/lib/python3.7/site-packages/scipy/stats/stats.py:1416: UserWarning: kurtosistest only valid for n>=20 ... continuing anyway, n=12\n",
      "  \"anyway, n=%i\" % int(n))\n"
     ]
    },
    {
     "data": {
      "text/html": [
       "<div>\n",
       "<style scoped>\n",
       "    .dataframe tbody tr th:only-of-type {\n",
       "        vertical-align: middle;\n",
       "    }\n",
       "\n",
       "    .dataframe tbody tr th {\n",
       "        vertical-align: top;\n",
       "    }\n",
       "\n",
       "    .dataframe thead th {\n",
       "        text-align: right;\n",
       "    }\n",
       "</style>\n",
       "<table border=\"1\" class=\"dataframe\">\n",
       "  <thead>\n",
       "    <tr style=\"text-align: right;\">\n",
       "      <th></th>\n",
       "      <th>sum_sq</th>\n",
       "      <th>df</th>\n",
       "      <th>F</th>\n",
       "      <th>PR(&gt;F)</th>\n",
       "    </tr>\n",
       "  </thead>\n",
       "  <tbody>\n",
       "    <tr>\n",
       "      <th>Batch</th>\n",
       "      <td>6.978263e+05</td>\n",
       "      <td>1.0</td>\n",
       "      <td>2044.850426</td>\n",
       "      <td>6.316360e-11</td>\n",
       "    </tr>\n",
       "    <tr>\n",
       "      <th>Cores</th>\n",
       "      <td>2.022976e+05</td>\n",
       "      <td>1.0</td>\n",
       "      <td>592.795651</td>\n",
       "      <td>8.642458e-09</td>\n",
       "    </tr>\n",
       "    <tr>\n",
       "      <th>Batch:Cores</th>\n",
       "      <td>8.954569e+05</td>\n",
       "      <td>1.0</td>\n",
       "      <td>2623.970215</td>\n",
       "      <td>2.336807e-11</td>\n",
       "    </tr>\n",
       "    <tr>\n",
       "      <th>Epoch</th>\n",
       "      <td>8.954569e+05</td>\n",
       "      <td>1.0</td>\n",
       "      <td>2623.970215</td>\n",
       "      <td>2.336807e-11</td>\n",
       "    </tr>\n",
       "    <tr>\n",
       "      <th>Batch:Epoch</th>\n",
       "      <td>2.022976e+05</td>\n",
       "      <td>1.0</td>\n",
       "      <td>592.795651</td>\n",
       "      <td>8.642458e-09</td>\n",
       "    </tr>\n",
       "    <tr>\n",
       "      <th>Cores:Epoch</th>\n",
       "      <td>6.978263e+05</td>\n",
       "      <td>1.0</td>\n",
       "      <td>2044.850426</td>\n",
       "      <td>6.316360e-11</td>\n",
       "    </tr>\n",
       "    <tr>\n",
       "      <th>Batch:Cores:Epoch</th>\n",
       "      <td>3.105388e+06</td>\n",
       "      <td>1.0</td>\n",
       "      <td>9099.763970</td>\n",
       "      <td>1.628259e-13</td>\n",
       "    </tr>\n",
       "    <tr>\n",
       "      <th>Residual</th>\n",
       "      <td>2.730083e+03</td>\n",
       "      <td>8.0</td>\n",
       "      <td>NaN</td>\n",
       "      <td>NaN</td>\n",
       "    </tr>\n",
       "  </tbody>\n",
       "</table>\n",
       "</div>"
      ],
      "text/plain": [
       "                         sum_sq   df            F        PR(>F)\n",
       "Batch              6.978263e+05  1.0  2044.850426  6.316360e-11\n",
       "Cores              2.022976e+05  1.0   592.795651  8.642458e-09\n",
       "Batch:Cores        8.954569e+05  1.0  2623.970215  2.336807e-11\n",
       "Epoch              8.954569e+05  1.0  2623.970215  2.336807e-11\n",
       "Batch:Epoch        2.022976e+05  1.0   592.795651  8.642458e-09\n",
       "Cores:Epoch        6.978263e+05  1.0  2044.850426  6.316360e-11\n",
       "Batch:Cores:Epoch  3.105388e+06  1.0  9099.763970  1.628259e-13\n",
       "Residual           2.730083e+03  8.0          NaN           NaN"
      ]
     },
     "execution_count": 20,
     "metadata": {},
     "output_type": "execute_result"
    }
   ],
   "source": [
    "# ANOVA for interaction\n",
    "batch_model = ols('Runtime ~  Batch*Cores*Epoch', data=df).fit()\n",
    "batch_model.summary()\n",
    "\n",
    "aov_table = sm.stats.anova_lm(batch_model, typ=2)\n",
    "aov_table"
   ]
  },
  {
   "cell_type": "code",
   "execution_count": 79,
   "metadata": {},
   "outputs": [
    {
     "name": "stderr",
     "output_type": "stream",
     "text": [
      "/usr/local/lib/python3.7/site-packages/scipy/stats/stats.py:1416: UserWarning: kurtosistest only valid for n>=20 ... continuing anyway, n=12\n",
      "  \"anyway, n=%i\" % int(n))\n"
     ]
    },
    {
     "data": {
      "text/html": [
       "<table class=\"simpletable\">\n",
       "<caption>OLS Regression Results</caption>\n",
       "<tr>\n",
       "  <th>Dep. Variable:</th>         <td>Runtime</td>     <th>  R-squared:         </th> <td>   0.998</td>\n",
       "</tr>\n",
       "<tr>\n",
       "  <th>Model:</th>                   <td>OLS</td>       <th>  Adj. R-squared:    </th> <td>   0.998</td>\n",
       "</tr>\n",
       "<tr>\n",
       "  <th>Method:</th>             <td>Least Squares</td>  <th>  F-statistic:       </th> <td>   1754.</td>\n",
       "</tr>\n",
       "<tr>\n",
       "  <th>Date:</th>             <td>Thu, 24 Oct 2019</td> <th>  Prob (F-statistic):</th> <td>1.31e-11</td>\n",
       "</tr>\n",
       "<tr>\n",
       "  <th>Time:</th>                 <td>13:43:19</td>     <th>  Log-Likelihood:    </th> <td> -49.590</td>\n",
       "</tr>\n",
       "<tr>\n",
       "  <th>No. Observations:</th>      <td>    12</td>      <th>  AIC:               </th> <td>   107.2</td>\n",
       "</tr>\n",
       "<tr>\n",
       "  <th>Df Residuals:</th>          <td>     8</td>      <th>  BIC:               </th> <td>   109.1</td>\n",
       "</tr>\n",
       "<tr>\n",
       "  <th>Df Model:</th>              <td>     3</td>      <th>                     </th>     <td> </td>   \n",
       "</tr>\n",
       "<tr>\n",
       "  <th>Covariance Type:</th>      <td>nonrobust</td>    <th>                     </th>     <td> </td>   \n",
       "</tr>\n",
       "</table>\n",
       "<table class=\"simpletable\">\n",
       "<tr>\n",
       "          <td></td>             <th>coef</th>     <th>std err</th>      <th>t</th>      <th>P>|t|</th>  <th>[0.025</th>    <th>0.975]</th>  \n",
       "</tr>\n",
       "<tr>\n",
       "  <th>Intercept</th>         <td>  254.3533</td> <td>    2.666</td> <td>   95.393</td> <td> 0.000</td> <td>  248.205</td> <td>  260.502</td>\n",
       "</tr>\n",
       "<tr>\n",
       "  <th>Batch</th>             <td> -120.5738</td> <td>    2.666</td> <td>  -45.220</td> <td> 0.000</td> <td> -126.723</td> <td> -114.425</td>\n",
       "</tr>\n",
       "<tr>\n",
       "  <th>Cores</th>             <td>  -64.9194</td> <td>    2.666</td> <td>  -24.347</td> <td> 0.000</td> <td>  -71.068</td> <td>  -58.771</td>\n",
       "</tr>\n",
       "<tr>\n",
       "  <th>Batch:Cores</th>       <td>  136.5846</td> <td>    2.666</td> <td>   51.225</td> <td> 0.000</td> <td>  130.436</td> <td>  142.733</td>\n",
       "</tr>\n",
       "<tr>\n",
       "  <th>Epoch</th>             <td>  136.5846</td> <td>    2.666</td> <td>   51.225</td> <td> 0.000</td> <td>  130.436</td> <td>  142.733</td>\n",
       "</tr>\n",
       "<tr>\n",
       "  <th>Batch:Epoch</th>       <td>  -64.9194</td> <td>    2.666</td> <td>  -24.347</td> <td> 0.000</td> <td>  -71.068</td> <td>  -58.771</td>\n",
       "</tr>\n",
       "<tr>\n",
       "  <th>Cores:Epoch</th>       <td> -120.5738</td> <td>    2.666</td> <td>  -45.220</td> <td> 0.000</td> <td> -126.723</td> <td> -114.425</td>\n",
       "</tr>\n",
       "<tr>\n",
       "  <th>Batch:Cores:Epoch</th> <td>  254.3533</td> <td>    2.666</td> <td>   95.393</td> <td> 0.000</td> <td>  248.205</td> <td>  260.502</td>\n",
       "</tr>\n",
       "</table>\n",
       "<table class=\"simpletable\">\n",
       "<tr>\n",
       "  <th>Omnibus:</th>       <td> 6.776</td> <th>  Durbin-Watson:     </th> <td>   3.042</td>\n",
       "</tr>\n",
       "<tr>\n",
       "  <th>Prob(Omnibus):</th> <td> 0.034</td> <th>  Jarque-Bera (JB):  </th> <td>   3.360</td>\n",
       "</tr>\n",
       "<tr>\n",
       "  <th>Skew:</th>          <td> 0.398</td> <th>  Prob(JB):          </th> <td>   0.186</td>\n",
       "</tr>\n",
       "<tr>\n",
       "  <th>Kurtosis:</th>      <td> 5.467</td> <th>  Cond. No.          </th> <td>2.12e+17</td>\n",
       "</tr>\n",
       "</table><br/><br/>Warnings:<br/>[1] Standard Errors assume that the covariance matrix of the errors is correctly specified.<br/>[2] The smallest eigenvalue is 5.34e-34. This might indicate that there are<br/>strong multicollinearity problems or that the design matrix is singular."
      ],
      "text/plain": [
       "<class 'statsmodels.iolib.summary.Summary'>\n",
       "\"\"\"\n",
       "                            OLS Regression Results                            \n",
       "==============================================================================\n",
       "Dep. Variable:                Runtime   R-squared:                       0.998\n",
       "Model:                            OLS   Adj. R-squared:                  0.998\n",
       "Method:                 Least Squares   F-statistic:                     1754.\n",
       "Date:                Thu, 24 Oct 2019   Prob (F-statistic):           1.31e-11\n",
       "Time:                        13:43:19   Log-Likelihood:                -49.590\n",
       "No. Observations:                  12   AIC:                             107.2\n",
       "Df Residuals:                       8   BIC:                             109.1\n",
       "Df Model:                           3                                         \n",
       "Covariance Type:            nonrobust                                         \n",
       "=====================================================================================\n",
       "                        coef    std err          t      P>|t|      [0.025      0.975]\n",
       "-------------------------------------------------------------------------------------\n",
       "Intercept           254.3533      2.666     95.393      0.000     248.205     260.502\n",
       "Batch              -120.5738      2.666    -45.220      0.000    -126.723    -114.425\n",
       "Cores               -64.9194      2.666    -24.347      0.000     -71.068     -58.771\n",
       "Batch:Cores         136.5846      2.666     51.225      0.000     130.436     142.733\n",
       "Epoch               136.5846      2.666     51.225      0.000     130.436     142.733\n",
       "Batch:Epoch         -64.9194      2.666    -24.347      0.000     -71.068     -58.771\n",
       "Cores:Epoch        -120.5738      2.666    -45.220      0.000    -126.723    -114.425\n",
       "Batch:Cores:Epoch   254.3533      2.666     95.393      0.000     248.205     260.502\n",
       "==============================================================================\n",
       "Omnibus:                        6.776   Durbin-Watson:                   3.042\n",
       "Prob(Omnibus):                  0.034   Jarque-Bera (JB):                3.360\n",
       "Skew:                           0.398   Prob(JB):                        0.186\n",
       "Kurtosis:                       5.467   Cond. No.                     2.12e+17\n",
       "==============================================================================\n",
       "\n",
       "Warnings:\n",
       "[1] Standard Errors assume that the covariance matrix of the errors is correctly specified.\n",
       "[2] The smallest eigenvalue is 5.34e-34. This might indicate that there are\n",
       "strong multicollinearity problems or that the design matrix is singular.\n",
       "\"\"\""
      ]
     },
     "execution_count": 79,
     "metadata": {},
     "output_type": "execute_result"
    }
   ],
   "source": [
    "overall_model = ols('Runtime ~ Batch*Cores*Epoch', data=df).fit()\n",
    "overall_model.summary()"
   ]
  },
  {
   "cell_type": "markdown",
   "metadata": {},
   "source": [
    "### G/G/1"
   ]
  },
  {
   "cell_type": "code",
   "execution_count": 52,
   "metadata": {},
   "outputs": [],
   "source": [
    "# Simulate G/G/1 queue\n",
    "def queuing_simulation(data):\n",
    "    N = len(data)\n",
    "    At = np.array(data.arrival_time)\n",
    "\n",
    "    S = np.zeros(N) # -> Service start time\n",
    "    C = np.zeros(N) # -> Complete time\n",
    "    W = np.zeros(N) # -> response time of job i (waiting time) \n",
    "\n",
    "    S[0] = At[0]\n",
    "    C[0] = S[0] + data.service_time[0]\n",
    "    W[0] = C[0] - At[0]\n",
    "\n",
    "    for i in range(1, N):\n",
    "        S[i] = max(C[i-1], At[i])\n",
    "        C[i] = S[i] + data.service_time[i]\n",
    "        W[i] = C[i] - At[i]\n",
    "\n",
    "#     print(\"Average simulated run time: \" + str(np.average(W)))\n",
    "    return np.average(W)"
   ]
  },
  {
   "cell_type": "code",
   "execution_count": 62,
   "metadata": {},
   "outputs": [
    {
     "name": "stdout",
     "output_type": "stream",
     "text": [
      "Exp 1: 123.94045613941394\n",
      "Exp 2: 1152.5422222879197\n",
      "Exp 3: 346.7322332938512\n",
      "Exp 4: 410.3491999912262\n",
      "\n",
      "Baseline: 383.4579629809768\n",
      "Baseline improved: 171.91259644742598\n"
     ]
    }
   ],
   "source": [
    "# Run the G/G/1 queuing simulation for all experiments\n",
    "for i in range(1,5):\n",
    "    print(f\"Exp {i}: {queuing_simulation(all_timing_data.get(i))}\")\n",
    "    \n",
    "print(f\"\\nBaseline: {queuing_simulation(baseline_times.reset_index(drop=True))}\")\n",
    "print(f\"Baseline improved: {queuing_simulation(baseline_improved_times.reset_index(drop=True))}\")"
   ]
  },
  {
   "cell_type": "code",
   "execution_count": null,
   "metadata": {},
   "outputs": [],
   "source": []
  }
 ],
 "metadata": {
  "@webio": {
   "lastCommId": null,
   "lastKernelId": null
  },
  "kernelspec": {
   "display_name": "Python 3",
   "language": "python",
   "name": "python3"
  },
  "language_info": {
   "codemirror_mode": {
    "name": "ipython",
    "version": 3
   },
   "file_extension": ".py",
   "mimetype": "text/x-python",
   "name": "python",
   "nbconvert_exporter": "python",
   "pygments_lexer": "ipython3",
   "version": "3.7.4"
  }
 },
 "nbformat": 4,
 "nbformat_minor": 2
}
