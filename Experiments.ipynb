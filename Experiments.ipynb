{
 "cells": [
  {
   "cell_type": "markdown",
   "metadata": {},
   "source": [
    "### Sign table"
   ]
  },
  {
   "cell_type": "code",
   "execution_count": 1,
   "metadata": {},
   "outputs": [
    {
     "data": {
      "text/plain": [
       "array([[-1., -1.,  1.],\n",
       "       [ 1., -1., -1.],\n",
       "       [-1.,  1., -1.],\n",
       "       [ 1.,  1.,  1.]])"
      ]
     },
     "execution_count": 1,
     "metadata": {},
     "output_type": "execute_result"
    }
   ],
   "source": [
    "from pyDOE2 import *\n",
    "# Generate sign table for experiments using Plackett-Burman design\n",
    "sign_table = pbdesign(3)\n",
    "sign_table"
   ]
  },
  {
   "cell_type": "markdown",
   "metadata": {},
   "source": [
    "### Data processing"
   ]
  },
  {
   "cell_type": "code",
   "execution_count": 2,
   "metadata": {},
   "outputs": [],
   "source": [
    "import pandas as pd\n",
    "import time\n",
    "from calendar import timegm\n",
    "from datetime import datetime\n",
    "\n",
    "date_format = \"%Y/%m/%d:%H:%M:%S\"\n",
    "\n",
    "# Takes a string containing date and time and converts it to epoch time\n",
    "def timestamp_converter(timestamp):\n",
    "    utc_time = time.strptime(timestamp, date_format)\n",
    "    return timegm(utc_time)\n",
    "    "
   ]
  },
  {
   "cell_type": "code",
   "execution_count": 3,
   "metadata": {},
   "outputs": [],
   "source": [
    "def load_service_and_arrival_times(experiment):\n",
    "    service_path ='data/service/exp' + str(experiment) + \"/run\" \n",
    "    arrivals_path ='data/arrivals/exp' + str(experiment) + \"/run\"\n",
    "\n",
    "    \n",
    "    times = pd.DataFrame({}, columns = ['job', 'arrival_time', 'serivice_time'])\n",
    "    run_times = []\n",
    "    for run in range(1,4):\n",
    "        # Load the arrivals and service time data for a single run for this experiment\n",
    "        temp_service = pd.read_csv(service_path + str(run) + '.csv',  delimiter=' ')\n",
    "        temp_arrivals = pd.read_csv(arrivals_path + str(run) + '.csv',  delimiter=' ')\n",
    "        \n",
    "        # Transform the date string values into epoch values\n",
    "        temp_arrivals['arrival_time'] = temp_arrivals['arrival_time'].apply(lambda x: timestamp_converter(x))\n",
    "            \n",
    "        # Compute the average runtimes for this run\n",
    "        run_times.append(np.mean(temp_service['end_time']-temp_arrivals['arrival_time']))\n",
    "        \n",
    "        # Merge the data into a single df\n",
    "        merged_temp = pd.merge(temp_arrivals, temp_service, on='job')\n",
    "        \n",
    "        # Concatenate the df to the results of previous runs \n",
    "        if times.empty:\n",
    "            times = merged_temp\n",
    "        else:\n",
    "            times = pd.concat([times, merged_temp])\n",
    "        \n",
    "    return times, run_times    \n",
    "    "
   ]
  },
  {
   "cell_type": "code",
   "execution_count": 4,
   "metadata": {},
   "outputs": [
    {
     "data": {
      "text/plain": [
       "[122.27266749582793,\n",
       " 123.81915235519409,\n",
       " 126.59396092515243,\n",
       " 1148.4932452837627,\n",
       " 1190.928062359492,\n",
       " 1119.1656390031178,\n",
       " 346.76989209651947,\n",
       " 345.7390785932541,\n",
       " 348.02945160865784,\n",
       " 416.36790174245834,\n",
       " 414.0355792045593,\n",
       " 402.26417673958673]"
      ]
     },
     "execution_count": 4,
     "metadata": {},
     "output_type": "execute_result"
    }
   ],
   "source": [
    "# Collecting the timing data for all experiments\n",
    "all_timing_data = {}\n",
    "all_runtimes = []\n",
    "for exp in range(1,5):\n",
    "    # Load the data, remove the job column and reset the row index\n",
    "    exp_times, exp_avg_runtimes = load_service_and_arrival_times(exp)\n",
    "    exp_times = exp_times.drop(columns = ['job']).reset_index(drop=True)\n",
    "    \n",
    "    # Compute and add the runtimes\n",
    "    exp_times['runtime']=exp_times['end_time']-exp_times['arrival_time']\n",
    "    \n",
    "    # Add the timing data for this experiment to all_timing_data\n",
    "    all_timing_data[exp] = exp_times\n",
    "    \n",
    "    # and the avg runtimes to all_runtimes\n",
    "    all_runtimes.extend(exp_avg_runtimes)\n",
    "    \n",
    "# all_timing_data.get(1)\n",
    "all_runtimes"
   ]
  },
  {
   "cell_type": "code",
   "execution_count": 5,
   "metadata": {},
   "outputs": [
    {
     "name": "stdout",
     "output_type": "stream",
     "text": [
      "Average runtime for experiment 1: 124.22859359205815\n",
      "Average runtime for experiment 2: 1152.8623155487908\n",
      "Average runtime for experiment 3: 346.8461407661438\n",
      "Average runtime for experiment 4: 410.5442175292969\n"
     ]
    }
   ],
   "source": [
    "# Compute the average runtimes\n",
    "avg_runtimes = {}\n",
    "for exp in range(1, 5):\n",
    "    average_runtime = np.average(np.array(all_timing_data[exp].runtime))\n",
    "    avg_runtimes[exp] = average_runtime\n",
    "    print(\"Average runtime for experiment \" + str(exp) + \": \" + str(average_runtime))"
   ]
  },
  {
   "cell_type": "markdown",
   "metadata": {},
   "source": [
    "#### Accuracies"
   ]
  },
  {
   "cell_type": "code",
   "execution_count": null,
   "metadata": {},
   "outputs": [],
   "source": [
    "for exp in range(1,5):\n",
    "    accuracy_path ='data/accuracies/exp' + str(exp) +\".csv\" \n",
    "    accuracies = pd.read_csv(accuracy_path, header=None)\n",
    "    print(\"Average accuracy for experiment \" +  str(exp) + \": \"+ str(np.average(accuracies)))"
   ]
  },
  {
   "cell_type": "markdown",
   "metadata": {},
   "source": [
    "### Regresion model"
   ]
  },
  {
   "cell_type": "code",
   "execution_count": null,
   "metadata": {},
   "outputs": [],
   "source": [
    "# Create/solve regresion modal\n",
    "print(sign_table)\n",
    "\n",
    "y_mean = np.array(list(avg_runtimes.values()))\n",
    "regression_totals = [sum(avg_runtimes.values())]\n",
    "for i in range(sign_table.shape[1]):\n",
    "    regression_totals.append(sum(sign_table[:,i]*y_mean))\n",
    "\n",
    "print(regression_totals)\n",
    "\n",
    "# Calulate effect per factor\n",
    "effect = [x / 4 for x in regression_totals]\n",
    "print(\"\\nEffect per factor: \" + str(effect))"
   ]
  },
  {
   "cell_type": "code",
   "execution_count": null,
   "metadata": {},
   "outputs": [],
   "source": [
    "import researchpy as rp\n",
    "df = pd.DataFrame({'Runtime': np.array(all_runtimes),\n",
    "                   'Epoch': np.repeat(sign_table[:,0], 3),\n",
    "                   'Cores': np.repeat(sign_table[:,1], 3),\n",
    "                   'Batch': np.repeat(sign_table[:,2], 3)})\n",
    "\n",
    "rp.summary_cont(df['Runtime'])"
   ]
  },
  {
   "cell_type": "markdown",
   "metadata": {},
   "source": [
    "### G/G/1"
   ]
  },
  {
   "cell_type": "code",
   "execution_count": null,
   "metadata": {},
   "outputs": [],
   "source": [
    "# Simulate G/G/1 queue\n",
    "def queuing_simulation(data):\n",
    "    N = len(data)\n",
    "    At = data.arrival_time\n",
    "\n",
    "    S = np.zeros(N) # -> Service start time\n",
    "    C = np.zeros(N) # -> Complete time\n",
    "    W = np.zeros(N) # -> response time of job i (waiting time) \n",
    "\n",
    "    S[0] = At[0]\n",
    "    C[0] = S[0] + data.service_time[0]\n",
    "    W[0] = C[0] - At[0]\n",
    "\n",
    "    for i in range(1, N):\n",
    "        S[i] = max(C[i-1], At[i])\n",
    "        C[i] = S[i] + data.service_time[i]\n",
    "        W[i] = C[i] - At[i]\n",
    "\n",
    "#     print(\"Average simulated run time: \" + str(np.average(W)))\n",
    "    return np.average(W)"
   ]
  },
  {
   "cell_type": "code",
   "execution_count": null,
   "metadata": {},
   "outputs": [],
   "source": [
    "# Run the G/G/1 queuing simulation for all experiments\n",
    "for i in range(1,5):\n",
    "    # avrg simulated runtime\n",
    "    print(queuing_simulation(all_timing_data.get(i)))"
   ]
  },
  {
   "cell_type": "code",
   "execution_count": null,
   "metadata": {
    "scrolled": true
   },
   "outputs": [],
   "source": [
    "#TODO: Compare simulated averages to actual averages"
   ]
  }
 ],
 "metadata": {
  "@webio": {
   "lastCommId": null,
   "lastKernelId": null
  },
  "kernelspec": {
   "display_name": "Python 3",
   "language": "python",
   "name": "python3"
  },
  "language_info": {
   "codemirror_mode": {
    "name": "ipython",
    "version": 3
   },
   "file_extension": ".py",
   "mimetype": "text/x-python",
   "name": "python",
   "nbconvert_exporter": "python",
   "pygments_lexer": "ipython3",
   "version": "3.6.8"
  }
 },
 "nbformat": 4,
 "nbformat_minor": 2
}
