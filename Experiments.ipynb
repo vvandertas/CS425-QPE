{
 "cells": [
  {
   "cell_type": "markdown",
   "metadata": {},
   "source": [
    "### Sign table"
   ]
  },
  {
   "cell_type": "code",
   "execution_count": 16,
   "metadata": {},
   "outputs": [
    {
     "data": {
      "text/plain": [
       "array([[-1., -1.,  1.],\n",
       "       [ 1., -1., -1.],\n",
       "       [-1.,  1., -1.],\n",
       "       [ 1.,  1.,  1.]])"
      ]
     },
     "execution_count": 16,
     "metadata": {},
     "output_type": "execute_result"
    }
   ],
   "source": [
    "from pyDOE2 import *\n",
    "# Generate sign table for experiments using Plackett-Burman design\n",
    "sign_table = pbdesign(3)\n",
    "sign_table"
   ]
  },
  {
   "cell_type": "markdown",
   "metadata": {},
   "source": [
    "### Data processing"
   ]
  },
  {
   "cell_type": "code",
   "execution_count": 17,
   "metadata": {},
   "outputs": [],
   "source": [
    "import pandas as pd\n",
    "import time\n",
    "from calendar import timegm\n",
    "from datetime import datetime\n",
    "from sklearn.linear_model import LinearRegression\n",
    "\n",
    "date_format = \"%Y/%m/%d:%H:%M:%S\"\n",
    "\n",
    "# Takes a string containing date and time and converts it to epoch time\n",
    "def timestamp_converter(timestamp):\n",
    "    utc_time = time.strptime(timestamp, date_format)\n",
    "    return timegm(utc_time)\n",
    "    "
   ]
  },
  {
   "cell_type": "code",
   "execution_count": 18,
   "metadata": {},
   "outputs": [],
   "source": [
    "test = 1\n"
   ]
  },
  {
   "cell_type": "code",
   "execution_count": 19,
   "metadata": {},
   "outputs": [],
   "source": [
    "def load_service_and_arrival_times(experiment):\n",
    "    if isinstance(experiment, int):      \n",
    "        service_path ='data/service/exp' + str(experiment) + \"/run\" \n",
    "        arrivals_path ='data/arrivals/exp' + str(experiment) + \"/run\"\n",
    "    else:\n",
    "        service_path = 'data/service/exp' + str(experiment) + \"/run\" \n",
    "        arrivals_path = 'data/arrivals/exp' + str(experiment) + \"/run\"\n",
    "        \n",
    "    times = pd.DataFrame({}, columns = ['job', 'arrival_time', 'serivice_time'])\n",
    "    run_times = []\n",
    "    for run in range(1,4):\n",
    "        # Load the arrivals and service time data for a single run for this experiment\n",
    "        temp_service = pd.read_csv(service_path + str(run) + '.csv',  delimiter=' ')\n",
    "        temp_arrivals = pd.read_csv(arrivals_path + str(run) + '.csv',  delimiter=' ')\n",
    "        \n",
    "        # Transform the date string values into epoch values\n",
    "        temp_arrivals['arrival_time'] = temp_arrivals['arrival_time'].apply(lambda x: timestamp_converter(x))\n",
    "            \n",
    "        # Compute the average runtimes for this run\n",
    "        run_times.append(np.mean(temp_service['end_time']-temp_arrivals['arrival_time']))\n",
    "        \n",
    "        # Merge the data into a single df\n",
    "        merged_temp = pd.merge(temp_arrivals, temp_service, on='job')\n",
    "        \n",
    "        # Concatenate the df to the results of previous runs \n",
    "        if times.empty:\n",
    "            times = merged_temp\n",
    "        else:\n",
    "            times = pd.concat([times, merged_temp])\n",
    "        \n",
    "    return times, run_times    \n",
    "    "
   ]
  },
  {
   "cell_type": "code",
   "execution_count": 20,
   "metadata": {},
   "outputs": [
    {
     "data": {
      "text/plain": [
       "[122.27266749582793,\n",
       " 123.81915235519409,\n",
       " 126.59396092515243,\n",
       " 1148.4932452837627,\n",
       " 1190.928062359492,\n",
       " 1119.1656390031178,\n",
       " 346.76989209651947,\n",
       " 345.7390785932541,\n",
       " 348.02945160865784,\n",
       " 416.36790174245834,\n",
       " 414.0355792045593,\n",
       " 402.26417673958673]"
      ]
     },
     "execution_count": 20,
     "metadata": {},
     "output_type": "execute_result"
    }
   ],
   "source": [
    "# Collecting the timing data for all experiments\n",
    "all_timing_data = {}\n",
    "all_runtimes = []\n",
    "for exp in range(1,5):\n",
    "    # Load the data, remove the job column and reset the row index\n",
    "    exp_times, exp_avg_runtimes = load_service_and_arrival_times(exp)\n",
    "    exp_times = exp_times.drop(columns = ['job']).reset_index(drop=True)\n",
    "    \n",
    "    # Compute and add the runtimes\n",
    "    exp_times['runtime']=exp_times['end_time']-exp_times['arrival_time']\n",
    "    \n",
    "    # Add the timing data for this experiment to all_timing_data\n",
    "    all_timing_data[exp] = exp_times\n",
    "    \n",
    "    # and the avg runtimes to all_runtimes\n",
    "    all_runtimes.extend(exp_avg_runtimes)\n",
    "    \n",
    "#all_timing_data.get(1)\n",
    "all_runtimes"
   ]
  },
  {
   "cell_type": "markdown",
   "metadata": {},
   "source": [
    "### Regression model fit using sklearn"
   ]
  },
  {
   "cell_type": "code",
   "execution_count": 21,
   "metadata": {},
   "outputs": [
    {
     "name": "stdout",
     "output_type": "stream",
     "text": [
      "epoch has coefficient 36.411059957329535\n",
      "cores has coefficient -64.96256885567598\n",
      "batch_size has coefficient -2.5128532426916195\n"
     ]
    }
   ],
   "source": [
    "# Collecting the timing data for all experiments\n",
    "all_timing_data = {}\n",
    "all_runtimes = []\n",
    "\n",
    "epochs = [5, 20, 5, 20]\n",
    "cores = [4, 4, 8, 8]\n",
    "batch_sizes = [256, 64, 64, 256]\n",
    "\n",
    "for exp in range(1,5):\n",
    "    # Load the data, remove the job column and reset the row index\n",
    "    exp_times, exp_avg_runtimes = load_service_and_arrival_times(exp)\n",
    "    #exp_times = exp_times.drop(columns = ['job']).reset_index(drop=True)\n",
    "    \n",
    "    # Compute and add the runtimes\n",
    "    exp_times['runtime']=exp_times['end_time']-exp_times['arrival_time']\n",
    "    \n",
    "    # Add the timing data for this experiment to all_timing_data\n",
    "    all_timing_data[exp] = exp_times\n",
    "    \n",
    "    # and the avg runtimes to all_runtimes\n",
    "    all_runtimes.extend(exp_avg_runtimes)\n",
    "\n",
    "    #add factor values to the dataframe\n",
    "    all_timing_data.get(exp)[\"epoch\"] = epochs[exp-1]\n",
    "    all_timing_data.get(exp)[\"cores\"] = cores[exp-1]\n",
    "    all_timing_data.get(exp)[\"batch_size\"] = batch_sizes[exp-1]\n",
    "\n",
    "    \n",
    "df = pd.DataFrame.from_dict(all_timing_data.get(1))\n",
    "for exp in range(2, 5):\n",
    "    df = df.append(pd.DataFrame.from_dict(all_timing_data.get(exp)))\n",
    "\n",
    "df = df.drop(columns=[\"job\", \"arrival_time\", \"service_time\", \"end_time\"])\n",
    "\n",
    "X = df.drop(columns=[\"runtime\"])\n",
    "y = df[\"runtime\"]\n",
    "\n",
    "clf = LinearRegression().fit(X, y)\n",
    "\n",
    "for col, coef in zip(X.columns, clf.coef_):\n",
    "   print(f\"{col} has coefficient {coef}\")\n",
    "    "
   ]
  },
  {
   "cell_type": "code",
   "execution_count": 22,
   "metadata": {},
   "outputs": [
    {
     "name": "stdout",
     "output_type": "stream",
     "text": [
      "Average runtime for baseline: 410.8892192288681\n"
     ]
    },
    {
     "data": {
      "text/html": [
       "<div>\n",
       "<style scoped>\n",
       "    .dataframe tbody tr th:only-of-type {\n",
       "        vertical-align: middle;\n",
       "    }\n",
       "\n",
       "    .dataframe tbody tr th {\n",
       "        vertical-align: top;\n",
       "    }\n",
       "\n",
       "    .dataframe thead th {\n",
       "        text-align: right;\n",
       "    }\n",
       "</style>\n",
       "<table border=\"1\" class=\"dataframe\">\n",
       "  <thead>\n",
       "    <tr style=\"text-align: right;\">\n",
       "      <th></th>\n",
       "      <th>arrival_time</th>\n",
       "      <th>service_time</th>\n",
       "      <th>end_time</th>\n",
       "      <th>runtime</th>\n",
       "    </tr>\n",
       "  </thead>\n",
       "  <tbody>\n",
       "    <tr>\n",
       "      <th>0</th>\n",
       "      <td>1571324230</td>\n",
       "      <td>411.834</td>\n",
       "      <td>1.571325e+09</td>\n",
       "      <td>412.149813</td>\n",
       "    </tr>\n",
       "    <tr>\n",
       "      <th>1</th>\n",
       "      <td>1571324642</td>\n",
       "      <td>414.206</td>\n",
       "      <td>1.571325e+09</td>\n",
       "      <td>414.355975</td>\n",
       "    </tr>\n",
       "    <tr>\n",
       "      <th>2</th>\n",
       "      <td>1571325056</td>\n",
       "      <td>414.858</td>\n",
       "      <td>1.571325e+09</td>\n",
       "      <td>415.214545</td>\n",
       "    </tr>\n",
       "    <tr>\n",
       "      <th>3</th>\n",
       "      <td>1571325471</td>\n",
       "      <td>414.619</td>\n",
       "      <td>1.571326e+09</td>\n",
       "      <td>414.833795</td>\n",
       "    </tr>\n",
       "    <tr>\n",
       "      <th>4</th>\n",
       "      <td>1571325885</td>\n",
       "      <td>421.079</td>\n",
       "      <td>1.571326e+09</td>\n",
       "      <td>421.912971</td>\n",
       "    </tr>\n",
       "    <tr>\n",
       "      <th>5</th>\n",
       "      <td>1571326306</td>\n",
       "      <td>417.981</td>\n",
       "      <td>1.571327e+09</td>\n",
       "      <td>418.893661</td>\n",
       "    </tr>\n",
       "    <tr>\n",
       "      <th>6</th>\n",
       "      <td>1571326724</td>\n",
       "      <td>416.751</td>\n",
       "      <td>1.571327e+09</td>\n",
       "      <td>417.644428</td>\n",
       "    </tr>\n",
       "    <tr>\n",
       "      <th>7</th>\n",
       "      <td>1571327141</td>\n",
       "      <td>415.294</td>\n",
       "      <td>1.571328e+09</td>\n",
       "      <td>415.938026</td>\n",
       "    </tr>\n",
       "    <tr>\n",
       "      <th>8</th>\n",
       "      <td>1571328030</td>\n",
       "      <td>412.388</td>\n",
       "      <td>1.571328e+09</td>\n",
       "      <td>412.723181</td>\n",
       "    </tr>\n",
       "    <tr>\n",
       "      <th>9</th>\n",
       "      <td>1571328442</td>\n",
       "      <td>416.780</td>\n",
       "      <td>1.571329e+09</td>\n",
       "      <td>417.503261</td>\n",
       "    </tr>\n",
       "    <tr>\n",
       "      <th>10</th>\n",
       "      <td>1571328859</td>\n",
       "      <td>415.754</td>\n",
       "      <td>1.571329e+09</td>\n",
       "      <td>416.257770</td>\n",
       "    </tr>\n",
       "    <tr>\n",
       "      <th>11</th>\n",
       "      <td>1571329275</td>\n",
       "      <td>415.788</td>\n",
       "      <td>1.571330e+09</td>\n",
       "      <td>416.046303</td>\n",
       "    </tr>\n",
       "    <tr>\n",
       "      <th>12</th>\n",
       "      <td>1571329691</td>\n",
       "      <td>414.698</td>\n",
       "      <td>1.571330e+09</td>\n",
       "      <td>414.743944</td>\n",
       "    </tr>\n",
       "    <tr>\n",
       "      <th>13</th>\n",
       "      <td>1571330105</td>\n",
       "      <td>414.874</td>\n",
       "      <td>1.571331e+09</td>\n",
       "      <td>415.617967</td>\n",
       "    </tr>\n",
       "    <tr>\n",
       "      <th>14</th>\n",
       "      <td>1571330520</td>\n",
       "      <td>413.805</td>\n",
       "      <td>1.571331e+09</td>\n",
       "      <td>414.423094</td>\n",
       "    </tr>\n",
       "    <tr>\n",
       "      <th>15</th>\n",
       "      <td>1571330934</td>\n",
       "      <td>404.546</td>\n",
       "      <td>1.571331e+09</td>\n",
       "      <td>404.969114</td>\n",
       "    </tr>\n",
       "    <tr>\n",
       "      <th>16</th>\n",
       "      <td>1571331830</td>\n",
       "      <td>403.336</td>\n",
       "      <td>1.571332e+09</td>\n",
       "      <td>403.751957</td>\n",
       "    </tr>\n",
       "    <tr>\n",
       "      <th>17</th>\n",
       "      <td>1571332233</td>\n",
       "      <td>403.151</td>\n",
       "      <td>1.571333e+09</td>\n",
       "      <td>403.903389</td>\n",
       "    </tr>\n",
       "    <tr>\n",
       "      <th>18</th>\n",
       "      <td>1571332636</td>\n",
       "      <td>403.233</td>\n",
       "      <td>1.571333e+09</td>\n",
       "      <td>404.136304</td>\n",
       "    </tr>\n",
       "    <tr>\n",
       "      <th>19</th>\n",
       "      <td>1571333040</td>\n",
       "      <td>404.359</td>\n",
       "      <td>1.571333e+09</td>\n",
       "      <td>404.495323</td>\n",
       "    </tr>\n",
       "    <tr>\n",
       "      <th>20</th>\n",
       "      <td>1571333444</td>\n",
       "      <td>400.820</td>\n",
       "      <td>1.571334e+09</td>\n",
       "      <td>401.315479</td>\n",
       "    </tr>\n",
       "    <tr>\n",
       "      <th>21</th>\n",
       "      <td>1571333845</td>\n",
       "      <td>399.610</td>\n",
       "      <td>1.571334e+09</td>\n",
       "      <td>399.925364</td>\n",
       "    </tr>\n",
       "    <tr>\n",
       "      <th>22</th>\n",
       "      <td>1571334244</td>\n",
       "      <td>398.771</td>\n",
       "      <td>1.571335e+09</td>\n",
       "      <td>399.696784</td>\n",
       "    </tr>\n",
       "    <tr>\n",
       "      <th>23</th>\n",
       "      <td>1571334643</td>\n",
       "      <td>400.430</td>\n",
       "      <td>1.571335e+09</td>\n",
       "      <td>401.126616</td>\n",
       "    </tr>\n",
       "    <tr>\n",
       "      <th>24</th>\n",
       "      <td>1571335044</td>\n",
       "      <td>401.900</td>\n",
       "      <td>1.571335e+09</td>\n",
       "      <td>402.026375</td>\n",
       "    </tr>\n",
       "  </tbody>\n",
       "</table>\n",
       "</div>"
      ],
      "text/plain": [
       "    arrival_time  service_time      end_time     runtime\n",
       "0     1571324230       411.834  1.571325e+09  412.149813\n",
       "1     1571324642       414.206  1.571325e+09  414.355975\n",
       "2     1571325056       414.858  1.571325e+09  415.214545\n",
       "3     1571325471       414.619  1.571326e+09  414.833795\n",
       "4     1571325885       421.079  1.571326e+09  421.912971\n",
       "5     1571326306       417.981  1.571327e+09  418.893661\n",
       "6     1571326724       416.751  1.571327e+09  417.644428\n",
       "7     1571327141       415.294  1.571328e+09  415.938026\n",
       "8     1571328030       412.388  1.571328e+09  412.723181\n",
       "9     1571328442       416.780  1.571329e+09  417.503261\n",
       "10    1571328859       415.754  1.571329e+09  416.257770\n",
       "11    1571329275       415.788  1.571330e+09  416.046303\n",
       "12    1571329691       414.698  1.571330e+09  414.743944\n",
       "13    1571330105       414.874  1.571331e+09  415.617967\n",
       "14    1571330520       413.805  1.571331e+09  414.423094\n",
       "15    1571330934       404.546  1.571331e+09  404.969114\n",
       "16    1571331830       403.336  1.571332e+09  403.751957\n",
       "17    1571332233       403.151  1.571333e+09  403.903389\n",
       "18    1571332636       403.233  1.571333e+09  404.136304\n",
       "19    1571333040       404.359  1.571333e+09  404.495323\n",
       "20    1571333444       400.820  1.571334e+09  401.315479\n",
       "21    1571333845       399.610  1.571334e+09  399.925364\n",
       "22    1571334244       398.771  1.571335e+09  399.696784\n",
       "23    1571334643       400.430  1.571335e+09  401.126616\n",
       "24    1571335044       401.900  1.571335e+09  402.026375"
      ]
     },
     "execution_count": 22,
     "metadata": {},
     "output_type": "execute_result"
    }
   ],
   "source": [
    "# Collect timing data for baseline runs\n",
    "baseline_times, baseline_avg_runtimes = load_service_and_arrival_times(exp)\n",
    "baseline_times = baseline_times.drop(columns = ['job']).reset_index(drop=True)\n",
    "\n",
    "# Compute and add the runtimes\n",
    "baseline_times['runtime']=baseline_times['end_time']-baseline_times['arrival_time']\n",
    "\n",
    "\n",
    "print(\"Average runtime for baseline: \" + str(np.average(baseline_avg_runtimes)))\n",
    "baseline_times"
   ]
  },
  {
   "cell_type": "code",
   "execution_count": 23,
   "metadata": {},
   "outputs": [
    {
     "name": "stdout",
     "output_type": "stream",
     "text": [
      "Average runtime for experiment 1: 124.22859359205815\n",
      "Average runtime for experiment 2: 1152.8623155487908\n",
      "Average runtime for experiment 3: 346.8461407661438\n",
      "Average runtime for experiment 4: 410.5442175292969\n"
     ]
    }
   ],
   "source": [
    "# Compute the average runtimes\n",
    "avg_runtimes = {}\n",
    "for exp in range(1, 5):\n",
    "    average_runtime = np.average(np.array(all_timing_data[exp].runtime))\n",
    "    avg_runtimes[exp] = average_runtime\n",
    "    print(\"Average runtime for experiment \" + str(exp) + \": \" + str(average_runtime))"
   ]
  },
  {
   "cell_type": "markdown",
   "metadata": {},
   "source": [
    "#### Accuracies"
   ]
  },
  {
   "cell_type": "code",
   "execution_count": 24,
   "metadata": {},
   "outputs": [
    {
     "name": "stdout",
     "output_type": "stream",
     "text": [
      "Average accuracy for experiment 1: 0.891861403508772\n",
      "Average accuracy for experiment 2: 0.9598454545454547\n",
      "Average accuracy for experiment 3: 0.9434787878787879\n",
      "Average accuracy for experiment 4: 0.944562962962963\n"
     ]
    }
   ],
   "source": [
    "for exp in range(1,5):\n",
    "    accuracy_path ='data/accuracies/exp' + str(exp) +\".csv\" \n",
    "    accuracies = pd.read_csv(accuracy_path, header=None)\n",
    "    print(\"Average accuracy for experiment \" +  str(exp) + \": \"+ str(np.average(accuracies)))"
   ]
  },
  {
   "cell_type": "code",
   "execution_count": 25,
   "metadata": {},
   "outputs": [
    {
     "name": "stdout",
     "output_type": "stream",
     "text": [
      "Average accuracy for baseline: 0.94281\n"
     ]
    }
   ],
   "source": [
    "baseline_accuracy = pd.read_csv('data/accuracies/baseline.csv', header=None)\n",
    "print(\"Average accuracy for baseline: \" + str(np.average(baseline_accuracy)))"
   ]
  },
  {
   "cell_type": "markdown",
   "metadata": {},
   "source": [
    "### Regression model based on sign-table"
   ]
  },
  {
   "cell_type": "code",
   "execution_count": 26,
   "metadata": {},
   "outputs": [
    {
     "name": "stdout",
     "output_type": "stream",
     "text": [
      "[[-1. -1.  1.]\n",
      " [ 1. -1. -1.]\n",
      " [-1.  1. -1.]\n",
      " [ 1.  1.  1.]]\n",
      "[2034.4812674362897, 1092.3317987198857, -519.7005508454083, -964.9356451935796]\n",
      "\n",
      "Effect per factor: [508.62031685907243, 273.0829496799714, -129.92513771135208, -241.2339112983949]\n"
     ]
    }
   ],
   "source": [
    "# Create/solve regression model\n",
    "print(sign_table)\n",
    "\n",
    "y_mean = np.array(list(avg_runtimes.values()))\n",
    "regression_totals = [sum(avg_runtimes.values())]\n",
    "for i in range(sign_table.shape[1]):\n",
    "    regression_totals.append(sum(sign_table[:,i]*y_mean))\n",
    "\n",
    "print(regression_totals)\n",
    "\n",
    "# Calulate effect per factor\n",
    "effect = [x / 4 for x in regression_totals]\n",
    "print(\"\\nEffect per factor: \" + str(effect))"
   ]
  },
  {
   "cell_type": "code",
   "execution_count": 35,
   "metadata": {},
   "outputs": [],
   "source": [
    "def toNaturalVariable(obtained_value, min_value, max_value):\n",
    "    return obtained_value * ((min_value+max_value)/2) + (max_value-min_value)/2\n",
    "\n",
    "# epochs = [5, 20]\n",
    "# cores = [4, 8]\n",
    "# batch_sizes = [64, 256]\n",
    "\n",
    "# natural_epoch = toNaturalVariable(effect[1], 5, 20)\n",
    "# natural_epoch"
   ]
  },
  {
   "cell_type": "code",
   "execution_count": 8,
   "metadata": {},
   "outputs": [
    {
     "name": "stdout",
     "output_type": "stream",
     "text": [
      "\n",
      "\n"
     ]
    },
    {
     "data": {
      "text/html": [
       "<div>\n",
       "<style scoped>\n",
       "    .dataframe tbody tr th:only-of-type {\n",
       "        vertical-align: middle;\n",
       "    }\n",
       "\n",
       "    .dataframe tbody tr th {\n",
       "        vertical-align: top;\n",
       "    }\n",
       "\n",
       "    .dataframe thead th {\n",
       "        text-align: right;\n",
       "    }\n",
       "</style>\n",
       "<table border=\"1\" class=\"dataframe\">\n",
       "  <thead>\n",
       "    <tr style=\"text-align: right;\">\n",
       "      <th></th>\n",
       "      <th>Variable</th>\n",
       "      <th>N</th>\n",
       "      <th>Mean</th>\n",
       "      <th>SD</th>\n",
       "      <th>SE</th>\n",
       "      <th>95% Conf.</th>\n",
       "      <th>Interval</th>\n",
       "    </tr>\n",
       "  </thead>\n",
       "  <tbody>\n",
       "    <tr>\n",
       "      <td>0</td>\n",
       "      <td>Runtime</td>\n",
       "      <td>12.0</td>\n",
       "      <td>508.706567</td>\n",
       "      <td>404.330085</td>\n",
       "      <td>116.720042</td>\n",
       "      <td>251.807487</td>\n",
       "      <td>765.605647</td>\n",
       "    </tr>\n",
       "  </tbody>\n",
       "</table>\n",
       "</div>"
      ],
      "text/plain": [
       "  Variable     N        Mean          SD          SE   95% Conf.    Interval\n",
       "0  Runtime  12.0  508.706567  404.330085  116.720042  251.807487  765.605647"
      ]
     },
     "execution_count": 8,
     "metadata": {},
     "output_type": "execute_result"
    }
   ],
   "source": [
    "import researchpy as rp\n",
    "df = pd.DataFrame({'Runtime': np.array(all_runtimes),\n",
    "                   'Epoch': np.repeat(sign_table[:,0], 3),\n",
    "                   'Cores': np.repeat(sign_table[:,1], 3),\n",
    "                   'Batch': np.repeat(sign_table[:,2], 3)})\n",
    "\n",
    "rp.summary_cont(df['Runtime'])\n"
   ]
  },
  {
   "cell_type": "code",
   "execution_count": 9,
   "metadata": {},
   "outputs": [
    {
     "name": "stdout",
     "output_type": "stream",
     "text": [
      "\n",
      "\n"
     ]
    },
    {
     "name": "stderr",
     "output_type": "stream",
     "text": [
      "/home/veerle/.local/lib/python3.6/site-packages/scipy/stats/stats.py:1450: UserWarning: kurtosistest only valid for n>=20 ... continuing anyway, n=12\n",
      "  \"anyway, n=%i\" % int(n))\n"
     ]
    },
    {
     "data": {
      "text/html": [
       "<div>\n",
       "<style scoped>\n",
       "    .dataframe tbody tr th:only-of-type {\n",
       "        vertical-align: middle;\n",
       "    }\n",
       "\n",
       "    .dataframe tbody tr th {\n",
       "        vertical-align: top;\n",
       "    }\n",
       "\n",
       "    .dataframe thead th {\n",
       "        text-align: right;\n",
       "    }\n",
       "</style>\n",
       "<table border=\"1\" class=\"dataframe\">\n",
       "  <thead>\n",
       "    <tr style=\"text-align: right;\">\n",
       "      <th></th>\n",
       "      <th>sum_sq</th>\n",
       "      <th>df</th>\n",
       "      <th>F</th>\n",
       "      <th>PR(&gt;F)</th>\n",
       "    </tr>\n",
       "  </thead>\n",
       "  <tbody>\n",
       "    <tr>\n",
       "      <td>Cores</td>\n",
       "      <td>2.022976e+05</td>\n",
       "      <td>1.0</td>\n",
       "      <td>1.267518</td>\n",
       "      <td>0.286526</td>\n",
       "    </tr>\n",
       "    <tr>\n",
       "      <td>Residual</td>\n",
       "      <td>1.596013e+06</td>\n",
       "      <td>10.0</td>\n",
       "      <td>NaN</td>\n",
       "      <td>NaN</td>\n",
       "    </tr>\n",
       "  </tbody>\n",
       "</table>\n",
       "</div>"
      ],
      "text/plain": [
       "                sum_sq    df         F    PR(>F)\n",
       "Cores     2.022976e+05   1.0  1.267518  0.286526\n",
       "Residual  1.596013e+06  10.0       NaN       NaN"
      ]
     },
     "execution_count": 9,
     "metadata": {},
     "output_type": "execute_result"
    }
   ],
   "source": [
    "from statsmodels.formula.api import ols\n",
    "import statsmodels.api as sm\n",
    "\n",
    "# ANOVA for Cores\n",
    "rp.summary_cont(df.groupby(['Cores']))['Runtime']\n",
    "cores_model = ols('Runtime ~ Cores', data=df).fit()\n",
    "cores_model.summary()\n",
    "\n",
    "aov_table = sm.stats.anova_lm(cores_model, typ=2)\n",
    "aov_table"
   ]
  },
  {
   "cell_type": "code",
   "execution_count": 10,
   "metadata": {},
   "outputs": [
    {
     "name": "stdout",
     "output_type": "stream",
     "text": [
      "\n",
      "\n"
     ]
    },
    {
     "name": "stderr",
     "output_type": "stream",
     "text": [
      "/home/veerle/.local/lib/python3.6/site-packages/scipy/stats/stats.py:1450: UserWarning: kurtosistest only valid for n>=20 ... continuing anyway, n=12\n",
      "  \"anyway, n=%i\" % int(n))\n"
     ]
    },
    {
     "data": {
      "text/html": [
       "<div>\n",
       "<style scoped>\n",
       "    .dataframe tbody tr th:only-of-type {\n",
       "        vertical-align: middle;\n",
       "    }\n",
       "\n",
       "    .dataframe tbody tr th {\n",
       "        vertical-align: top;\n",
       "    }\n",
       "\n",
       "    .dataframe thead th {\n",
       "        text-align: right;\n",
       "    }\n",
       "</style>\n",
       "<table border=\"1\" class=\"dataframe\">\n",
       "  <thead>\n",
       "    <tr style=\"text-align: right;\">\n",
       "      <th></th>\n",
       "      <th>sum_sq</th>\n",
       "      <th>df</th>\n",
       "      <th>F</th>\n",
       "      <th>PR(&gt;F)</th>\n",
       "    </tr>\n",
       "  </thead>\n",
       "  <tbody>\n",
       "    <tr>\n",
       "      <td>Batch</td>\n",
       "      <td>6.978263e+05</td>\n",
       "      <td>1.0</td>\n",
       "      <td>6.341082</td>\n",
       "      <td>0.030484</td>\n",
       "    </tr>\n",
       "    <tr>\n",
       "      <td>Residual</td>\n",
       "      <td>1.100485e+06</td>\n",
       "      <td>10.0</td>\n",
       "      <td>NaN</td>\n",
       "      <td>NaN</td>\n",
       "    </tr>\n",
       "  </tbody>\n",
       "</table>\n",
       "</div>"
      ],
      "text/plain": [
       "                sum_sq    df         F    PR(>F)\n",
       "Batch     6.978263e+05   1.0  6.341082  0.030484\n",
       "Residual  1.100485e+06  10.0       NaN       NaN"
      ]
     },
     "execution_count": 10,
     "metadata": {},
     "output_type": "execute_result"
    }
   ],
   "source": [
    "# ANOVA for Batch size\n",
    "rp.summary_cont(df.groupby(['Batch']))['Runtime']\n",
    "batch_model = ols('Runtime ~ Batch', data=df).fit()\n",
    "batch_model.summary()\n",
    "\n",
    "aov_table = sm.stats.anova_lm(batch_model, typ=2)\n",
    "aov_table"
   ]
  },
  {
   "cell_type": "code",
   "execution_count": 11,
   "metadata": {},
   "outputs": [
    {
     "name": "stdout",
     "output_type": "stream",
     "text": [
      "\n",
      "\n"
     ]
    },
    {
     "name": "stderr",
     "output_type": "stream",
     "text": [
      "/home/veerle/.local/lib/python3.6/site-packages/scipy/stats/stats.py:1450: UserWarning: kurtosistest only valid for n>=20 ... continuing anyway, n=12\n",
      "  \"anyway, n=%i\" % int(n))\n"
     ]
    },
    {
     "data": {
      "text/html": [
       "<div>\n",
       "<style scoped>\n",
       "    .dataframe tbody tr th:only-of-type {\n",
       "        vertical-align: middle;\n",
       "    }\n",
       "\n",
       "    .dataframe tbody tr th {\n",
       "        vertical-align: top;\n",
       "    }\n",
       "\n",
       "    .dataframe thead th {\n",
       "        text-align: right;\n",
       "    }\n",
       "</style>\n",
       "<table border=\"1\" class=\"dataframe\">\n",
       "  <thead>\n",
       "    <tr style=\"text-align: right;\">\n",
       "      <th></th>\n",
       "      <th>sum_sq</th>\n",
       "      <th>df</th>\n",
       "      <th>F</th>\n",
       "      <th>PR(&gt;F)</th>\n",
       "    </tr>\n",
       "  </thead>\n",
       "  <tbody>\n",
       "    <tr>\n",
       "      <td>Epoch</td>\n",
       "      <td>895456.942631</td>\n",
       "      <td>1.0</td>\n",
       "      <td>9.91807</td>\n",
       "      <td>0.010345</td>\n",
       "    </tr>\n",
       "    <tr>\n",
       "      <td>Residual</td>\n",
       "      <td>902854.054602</td>\n",
       "      <td>10.0</td>\n",
       "      <td>NaN</td>\n",
       "      <td>NaN</td>\n",
       "    </tr>\n",
       "  </tbody>\n",
       "</table>\n",
       "</div>"
      ],
      "text/plain": [
       "                 sum_sq    df        F    PR(>F)\n",
       "Epoch     895456.942631   1.0  9.91807  0.010345\n",
       "Residual  902854.054602  10.0      NaN       NaN"
      ]
     },
     "execution_count": 11,
     "metadata": {},
     "output_type": "execute_result"
    }
   ],
   "source": [
    "# ANOVA for Training Epoch size\n",
    "batch_model = ols('Runtime ~ Epoch', data=df).fit()\n",
    "batch_model.summary()\n",
    "\n",
    "aov_table = sm.stats.anova_lm(batch_model, typ=2)\n",
    "aov_table"
   ]
  },
  {
   "cell_type": "code",
   "execution_count": 15,
   "metadata": {},
   "outputs": [
    {
     "name": "stderr",
     "output_type": "stream",
     "text": [
      "/home/veerle/.local/lib/python3.6/site-packages/scipy/stats/stats.py:1450: UserWarning: kurtosistest only valid for n>=20 ... continuing anyway, n=12\n",
      "  \"anyway, n=%i\" % int(n))\n"
     ]
    },
    {
     "data": {
      "text/html": [
       "<div>\n",
       "<style scoped>\n",
       "    .dataframe tbody tr th:only-of-type {\n",
       "        vertical-align: middle;\n",
       "    }\n",
       "\n",
       "    .dataframe tbody tr th {\n",
       "        vertical-align: top;\n",
       "    }\n",
       "\n",
       "    .dataframe thead th {\n",
       "        text-align: right;\n",
       "    }\n",
       "</style>\n",
       "<table border=\"1\" class=\"dataframe\">\n",
       "  <thead>\n",
       "    <tr style=\"text-align: right;\">\n",
       "      <th></th>\n",
       "      <th>sum_sq</th>\n",
       "      <th>df</th>\n",
       "      <th>F</th>\n",
       "      <th>PR(&gt;F)</th>\n",
       "    </tr>\n",
       "  </thead>\n",
       "  <tbody>\n",
       "    <tr>\n",
       "      <td>Batch</td>\n",
       "      <td>6.978263e+05</td>\n",
       "      <td>1.0</td>\n",
       "      <td>2044.850426</td>\n",
       "      <td>6.316360e-11</td>\n",
       "    </tr>\n",
       "    <tr>\n",
       "      <td>Cores</td>\n",
       "      <td>2.022976e+05</td>\n",
       "      <td>1.0</td>\n",
       "      <td>592.795651</td>\n",
       "      <td>8.642458e-09</td>\n",
       "    </tr>\n",
       "    <tr>\n",
       "      <td>Batch:Cores</td>\n",
       "      <td>8.954569e+05</td>\n",
       "      <td>1.0</td>\n",
       "      <td>2623.970215</td>\n",
       "      <td>2.336807e-11</td>\n",
       "    </tr>\n",
       "    <tr>\n",
       "      <td>Epoch</td>\n",
       "      <td>8.954569e+05</td>\n",
       "      <td>1.0</td>\n",
       "      <td>2623.970215</td>\n",
       "      <td>2.336807e-11</td>\n",
       "    </tr>\n",
       "    <tr>\n",
       "      <td>Batch:Epoch</td>\n",
       "      <td>2.022976e+05</td>\n",
       "      <td>1.0</td>\n",
       "      <td>592.795651</td>\n",
       "      <td>8.642458e-09</td>\n",
       "    </tr>\n",
       "    <tr>\n",
       "      <td>Cores:Epoch</td>\n",
       "      <td>6.978263e+05</td>\n",
       "      <td>1.0</td>\n",
       "      <td>2044.850426</td>\n",
       "      <td>6.316360e-11</td>\n",
       "    </tr>\n",
       "    <tr>\n",
       "      <td>Batch:Cores:Epoch</td>\n",
       "      <td>3.105388e+06</td>\n",
       "      <td>1.0</td>\n",
       "      <td>9099.763970</td>\n",
       "      <td>1.628259e-13</td>\n",
       "    </tr>\n",
       "    <tr>\n",
       "      <td>Residual</td>\n",
       "      <td>2.730083e+03</td>\n",
       "      <td>8.0</td>\n",
       "      <td>NaN</td>\n",
       "      <td>NaN</td>\n",
       "    </tr>\n",
       "  </tbody>\n",
       "</table>\n",
       "</div>"
      ],
      "text/plain": [
       "                         sum_sq   df            F        PR(>F)\n",
       "Batch              6.978263e+05  1.0  2044.850426  6.316360e-11\n",
       "Cores              2.022976e+05  1.0   592.795651  8.642458e-09\n",
       "Batch:Cores        8.954569e+05  1.0  2623.970215  2.336807e-11\n",
       "Epoch              8.954569e+05  1.0  2623.970215  2.336807e-11\n",
       "Batch:Epoch        2.022976e+05  1.0   592.795651  8.642458e-09\n",
       "Cores:Epoch        6.978263e+05  1.0  2044.850426  6.316360e-11\n",
       "Batch:Cores:Epoch  3.105388e+06  1.0  9099.763970  1.628259e-13\n",
       "Residual           2.730083e+03  8.0          NaN           NaN"
      ]
     },
     "execution_count": 15,
     "metadata": {},
     "output_type": "execute_result"
    }
   ],
   "source": [
    "# ANOVA for interaction\n",
    "batch_model = ols('Runtime ~  Batch*Cores*Epoch', data=df).fit()\n",
    "batch_model.summary()\n",
    "\n",
    "aov_table = sm.stats.anova_lm(batch_model, typ=2)\n",
    "aov_table"
   ]
  },
  {
   "cell_type": "code",
   "execution_count": 12,
   "metadata": {},
   "outputs": [
    {
     "name": "stderr",
     "output_type": "stream",
     "text": [
      "/home/veerle/.local/lib/python3.6/site-packages/scipy/stats/stats.py:1450: UserWarning: kurtosistest only valid for n>=20 ... continuing anyway, n=12\n",
      "  \"anyway, n=%i\" % int(n))\n"
     ]
    },
    {
     "data": {
      "text/html": [
       "<table class=\"simpletable\">\n",
       "<caption>OLS Regression Results</caption>\n",
       "<tr>\n",
       "  <th>Dep. Variable:</th>         <td>Runtime</td>     <th>  R-squared:         </th> <td>   0.998</td>\n",
       "</tr>\n",
       "<tr>\n",
       "  <th>Model:</th>                   <td>OLS</td>       <th>  Adj. R-squared:    </th> <td>   0.998</td>\n",
       "</tr>\n",
       "<tr>\n",
       "  <th>Method:</th>             <td>Least Squares</td>  <th>  F-statistic:       </th> <td>   1754.</td>\n",
       "</tr>\n",
       "<tr>\n",
       "  <th>Date:</th>             <td>Tue, 22 Oct 2019</td> <th>  Prob (F-statistic):</th> <td>1.31e-11</td>\n",
       "</tr>\n",
       "<tr>\n",
       "  <th>Time:</th>                 <td>12:04:37</td>     <th>  Log-Likelihood:    </th> <td> -49.590</td>\n",
       "</tr>\n",
       "<tr>\n",
       "  <th>No. Observations:</th>      <td>    12</td>      <th>  AIC:               </th> <td>   107.2</td>\n",
       "</tr>\n",
       "<tr>\n",
       "  <th>Df Residuals:</th>          <td>     8</td>      <th>  BIC:               </th> <td>   109.1</td>\n",
       "</tr>\n",
       "<tr>\n",
       "  <th>Df Model:</th>              <td>     3</td>      <th>                     </th>     <td> </td>   \n",
       "</tr>\n",
       "<tr>\n",
       "  <th>Covariance Type:</th>      <td>nonrobust</td>    <th>                     </th>     <td> </td>   \n",
       "</tr>\n",
       "</table>\n",
       "<table class=\"simpletable\">\n",
       "<tr>\n",
       "          <td></td>             <th>coef</th>     <th>std err</th>      <th>t</th>      <th>P>|t|</th>  <th>[0.025</th>    <th>0.975]</th>  \n",
       "</tr>\n",
       "<tr>\n",
       "  <th>Intercept</th>         <td>  254.3533</td> <td>    2.666</td> <td>   95.393</td> <td> 0.000</td> <td>  248.205</td> <td>  260.502</td>\n",
       "</tr>\n",
       "<tr>\n",
       "  <th>Batch</th>             <td> -120.5738</td> <td>    2.666</td> <td>  -45.220</td> <td> 0.000</td> <td> -126.723</td> <td> -114.425</td>\n",
       "</tr>\n",
       "<tr>\n",
       "  <th>Cores</th>             <td>  -64.9194</td> <td>    2.666</td> <td>  -24.347</td> <td> 0.000</td> <td>  -71.068</td> <td>  -58.771</td>\n",
       "</tr>\n",
       "<tr>\n",
       "  <th>Batch:Cores</th>       <td>  136.5846</td> <td>    2.666</td> <td>   51.225</td> <td> 0.000</td> <td>  130.436</td> <td>  142.733</td>\n",
       "</tr>\n",
       "<tr>\n",
       "  <th>Epoch</th>             <td>  136.5846</td> <td>    2.666</td> <td>   51.225</td> <td> 0.000</td> <td>  130.436</td> <td>  142.733</td>\n",
       "</tr>\n",
       "<tr>\n",
       "  <th>Batch:Epoch</th>       <td>  -64.9194</td> <td>    2.666</td> <td>  -24.347</td> <td> 0.000</td> <td>  -71.068</td> <td>  -58.771</td>\n",
       "</tr>\n",
       "<tr>\n",
       "  <th>Cores:Epoch</th>       <td> -120.5738</td> <td>    2.666</td> <td>  -45.220</td> <td> 0.000</td> <td> -126.723</td> <td> -114.425</td>\n",
       "</tr>\n",
       "<tr>\n",
       "  <th>Batch:Cores:Epoch</th> <td>  254.3533</td> <td>    2.666</td> <td>   95.393</td> <td> 0.000</td> <td>  248.205</td> <td>  260.502</td>\n",
       "</tr>\n",
       "</table>\n",
       "<table class=\"simpletable\">\n",
       "<tr>\n",
       "  <th>Omnibus:</th>       <td> 6.776</td> <th>  Durbin-Watson:     </th> <td>   3.042</td>\n",
       "</tr>\n",
       "<tr>\n",
       "  <th>Prob(Omnibus):</th> <td> 0.034</td> <th>  Jarque-Bera (JB):  </th> <td>   3.360</td>\n",
       "</tr>\n",
       "<tr>\n",
       "  <th>Skew:</th>          <td> 0.398</td> <th>  Prob(JB):          </th> <td>   0.186</td>\n",
       "</tr>\n",
       "<tr>\n",
       "  <th>Kurtosis:</th>      <td> 5.467</td> <th>  Cond. No.          </th> <td>2.12e+17</td>\n",
       "</tr>\n",
       "</table><br/><br/>Warnings:<br/>[1] Standard Errors assume that the covariance matrix of the errors is correctly specified.<br/>[2] The smallest eigenvalue is 5.34e-34. This might indicate that there are<br/>strong multicollinearity problems or that the design matrix is singular."
      ],
      "text/plain": [
       "<class 'statsmodels.iolib.summary.Summary'>\n",
       "\"\"\"\n",
       "                            OLS Regression Results                            \n",
       "==============================================================================\n",
       "Dep. Variable:                Runtime   R-squared:                       0.998\n",
       "Model:                            OLS   Adj. R-squared:                  0.998\n",
       "Method:                 Least Squares   F-statistic:                     1754.\n",
       "Date:                Tue, 22 Oct 2019   Prob (F-statistic):           1.31e-11\n",
       "Time:                        12:04:37   Log-Likelihood:                -49.590\n",
       "No. Observations:                  12   AIC:                             107.2\n",
       "Df Residuals:                       8   BIC:                             109.1\n",
       "Df Model:                           3                                         \n",
       "Covariance Type:            nonrobust                                         \n",
       "=====================================================================================\n",
       "                        coef    std err          t      P>|t|      [0.025      0.975]\n",
       "-------------------------------------------------------------------------------------\n",
       "Intercept           254.3533      2.666     95.393      0.000     248.205     260.502\n",
       "Batch              -120.5738      2.666    -45.220      0.000    -126.723    -114.425\n",
       "Cores               -64.9194      2.666    -24.347      0.000     -71.068     -58.771\n",
       "Batch:Cores         136.5846      2.666     51.225      0.000     130.436     142.733\n",
       "Epoch               136.5846      2.666     51.225      0.000     130.436     142.733\n",
       "Batch:Epoch         -64.9194      2.666    -24.347      0.000     -71.068     -58.771\n",
       "Cores:Epoch        -120.5738      2.666    -45.220      0.000    -126.723    -114.425\n",
       "Batch:Cores:Epoch   254.3533      2.666     95.393      0.000     248.205     260.502\n",
       "==============================================================================\n",
       "Omnibus:                        6.776   Durbin-Watson:                   3.042\n",
       "Prob(Omnibus):                  0.034   Jarque-Bera (JB):                3.360\n",
       "Skew:                           0.398   Prob(JB):                        0.186\n",
       "Kurtosis:                       5.467   Cond. No.                     2.12e+17\n",
       "==============================================================================\n",
       "\n",
       "Warnings:\n",
       "[1] Standard Errors assume that the covariance matrix of the errors is correctly specified.\n",
       "[2] The smallest eigenvalue is 5.34e-34. This might indicate that there are\n",
       "strong multicollinearity problems or that the design matrix is singular.\n",
       "\"\"\""
      ]
     },
     "execution_count": 12,
     "metadata": {},
     "output_type": "execute_result"
    }
   ],
   "source": [
    "overall_model = ols('Runtime ~ Batch*Cores*Epoch', data=df).fit()\n",
    "overall_model.summary()"
   ]
  },
  {
   "cell_type": "markdown",
   "metadata": {},
   "source": [
    "### G/G/1"
   ]
  },
  {
   "cell_type": "code",
   "execution_count": 9,
   "metadata": {},
   "outputs": [],
   "source": [
    "# Simulate G/G/1 queue\n",
    "def queuing_simulation(data):\n",
    "    N = len(data)\n",
    "    At = data.arrival_time\n",
    "\n",
    "    S = np.zeros(N) # -> Service start time\n",
    "    C = np.zeros(N) # -> Complete time\n",
    "    W = np.zeros(N) # -> response time of job i (waiting time) \n",
    "\n",
    "    S[0] = At[0]\n",
    "    C[0] = S[0] + data.service_time[0]\n",
    "    W[0] = C[0] - At[0]\n",
    "\n",
    "    for i in range(1, N):\n",
    "        S[i] = max(C[i-1], At[i])\n",
    "        C[i] = S[i] + data.service_time[i]\n",
    "        W[i] = C[i] - At[i]\n",
    "\n",
    "#     print(\"Average simulated run time: \" + str(np.average(W)))\n",
    "    return np.average(W)"
   ]
  },
  {
   "cell_type": "code",
   "execution_count": 10,
   "metadata": {},
   "outputs": [
    {
     "name": "stdout",
     "output_type": "stream",
     "text": [
      "123.94045613941394\n",
      "1152.5422222879197\n",
      "346.7322332938512\n",
      "410.3491999912262\n"
     ]
    }
   ],
   "source": [
    "# Run the G/G/1 queuing simulation for all experiments\n",
    "for i in range(1,5):\n",
    "    # avrg simulated runtime\n",
    "    print(queuing_simulation(all_timing_data.get(i)))"
   ]
  }
 ],
 "metadata": {
  "@webio": {
   "lastCommId": null,
   "lastKernelId": null
  },
  "kernelspec": {
   "display_name": "Python 3",
   "language": "python",
   "name": "python3"
  },
  "language_info": {
   "codemirror_mode": {
    "name": "ipython",
    "version": 3
   },
   "file_extension": ".py",
   "mimetype": "text/x-python",
   "name": "python",
   "nbconvert_exporter": "python",
   "pygments_lexer": "ipython3",
   "version": "3.7.4"
  }
 },
 "nbformat": 4,
 "nbformat_minor": 2
}
